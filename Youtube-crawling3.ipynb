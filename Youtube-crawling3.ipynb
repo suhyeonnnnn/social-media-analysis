{
 "cells": [
  {
   "cell_type": "code",
   "execution_count": 1,
   "id": "cf015825",
   "metadata": {},
   "outputs": [],
   "source": [
    "from urllib.request import urlopen\n",
    "import bs4\n",
    "import numpy as np\n",
    "import pandas as pd\n",
    "\n",
    "from bs4 import BeautifulSoup\n",
    "\n",
    "import csv\n",
    "import io\n",
    "from selenium import webdriver\n",
    "from selenium.common import exceptions\n",
    "import sys\n",
    "import time\n",
    "import os\n",
    "\n",
    "import selenium\n",
    "from selenium import webdriver\n",
    "import pandas as pd\n",
    "import csv\n",
    "import time\n",
    "from tqdm import tqdm "
   ]
  },
  {
   "cell_type": "code",
   "execution_count": 2,
   "id": "9a0a932d",
   "metadata": {},
   "outputs": [],
   "source": [
    "def scrape(url):\n",
    "\n",
    "    driver = webdriver.Chrome('C:/Users/sh921/Desktop/chromedriver_win32/chromedriver.exe')###여기 Path 고쳐줘용!!!\n",
    "    \n",
    "\n",
    "    driver.get(url)\n",
    "    driver.maximize_window()\n",
    "    time.sleep(5)\n",
    "\n",
    "    try:\n",
    "\n",
    "        title = driver.find_element_by_xpath('//*[@id=\"container\"]/h1/yt-formatted-string').text\n",
    "        date = driver.find_element_by_xpath('//*[@id=\"info-strings\"]/yt-formatted-string').text\n",
    "        comment_section = driver.find_element_by_xpath('//*[@id=\"comments\"]')\n",
    "    except exceptions.NoSuchElementException:\n",
    "        error = \"Error: Double check selector OR \"\n",
    "        error += \"element may not yet be on the screen at the time of the find operation\"\n",
    "        print(error)\n",
    "\n",
    "    # Scroll into view the comment section, then allow some time\n",
    "    # for everything to be loaded as necessary.\n",
    "    driver.execute_script(\"arguments[0].scrollIntoView();\", comment_section)\n",
    "    time.sleep(7)\n",
    "\n",
    "    # Scroll all the way down to the bottom in order to get all the\n",
    "    # elements loaded (since Youtube dynamically loads them).\n",
    "    last_height = driver.execute_script(\"return document.documentElement.scrollHeight\")\n",
    "\n",
    "    while True:\n",
    "        # Scroll down 'til \"next load\".\n",
    "        driver.execute_script(\"window.scrollTo(0, document.documentElement.scrollHeight);\")\n",
    "\n",
    "        # Wait to load everything thus far.\n",
    "        time.sleep(2)\n",
    "\n",
    "        # Calculate new scroll height and compare with last scroll height.\n",
    "        new_height = driver.execute_script(\"return document.documentElement.scrollHeight\")\n",
    "        if new_height == last_height:\n",
    "            break\n",
    "        last_height = new_height\n",
    "\n",
    "    # One last scroll just in case.\n",
    "    driver.execute_script(\"window.scrollTo(0, document.documentElement.scrollHeight);\")\n",
    "\n",
    "    try:\n",
    "        # Extract the elements storing the usernames and comments.\n",
    "\n",
    "        comment_elems = driver.find_elements_by_xpath('//*[@id=\"content-text\"]')\n",
    "\n",
    "        \n",
    "    except exceptions.NoSuchElementException:\n",
    "        error = \"Error: Double check selector OR \"\n",
    "        error += \"element may not yet be on the screen at the time of the find operation\"\n",
    "        print(error)\n",
    "\n",
    "    print(\"> VIDEO TITLE: \" + title + \"\\n\")\n",
    "\n",
    "    Co = []\n",
    "    new_title = ''.join(char for char in title if char.isalnum())\n",
    "\n",
    "\n",
    "\n",
    "    for comment in comment_elems:\n",
    "        Co.append(comment.text)\n",
    "    \n",
    "\n",
    "\n",
    "    driver.close()\n",
    "    return Co, new_title, date"
   ]
  },
  {
   "cell_type": "code",
   "execution_count": 3,
   "id": "214aad45",
   "metadata": {},
   "outputs": [],
   "source": [
    "df = pd.read_csv(\"linkbased_id_2.csv\")"
   ]
  },
  {
   "cell_type": "code",
   "execution_count": 4,
   "id": "952224fb",
   "metadata": {},
   "outputs": [
    {
     "data": {
      "text/html": [
       "<div>\n",
       "<style scoped>\n",
       "    .dataframe tbody tr th:only-of-type {\n",
       "        vertical-align: middle;\n",
       "    }\n",
       "\n",
       "    .dataframe tbody tr th {\n",
       "        vertical-align: top;\n",
       "    }\n",
       "\n",
       "    .dataframe thead th {\n",
       "        text-align: right;\n",
       "    }\n",
       "</style>\n",
       "<table border=\"1\" class=\"dataframe\">\n",
       "  <thead>\n",
       "    <tr style=\"text-align: right;\">\n",
       "      <th></th>\n",
       "      <th>Unnamed: 0</th>\n",
       "      <th>link</th>\n",
       "      <th>channel_id</th>\n",
       "    </tr>\n",
       "  </thead>\n",
       "  <tbody>\n",
       "    <tr>\n",
       "      <th>0</th>\n",
       "      <td>3000</td>\n",
       "      <td>https://www.youtube.com/user/SuddenAttackmkt/v...</td>\n",
       "      <td>KeddIez8VQg</td>\n",
       "    </tr>\n",
       "    <tr>\n",
       "      <th>1</th>\n",
       "      <td>3001</td>\n",
       "      <td>https://www.youtube.com/user/SuddenAttackmkt/v...</td>\n",
       "      <td>0CY1d1KdJs8</td>\n",
       "    </tr>\n",
       "    <tr>\n",
       "      <th>2</th>\n",
       "      <td>3002</td>\n",
       "      <td>https://www.youtube.com/user/SuddenAttackmkt/v...</td>\n",
       "      <td>2Hl4-6DnrmM</td>\n",
       "    </tr>\n",
       "    <tr>\n",
       "      <th>3</th>\n",
       "      <td>3003</td>\n",
       "      <td>https://www.youtube.com/user/SuddenAttackmkt/v...</td>\n",
       "      <td>g5r2scV0I-g</td>\n",
       "    </tr>\n",
       "    <tr>\n",
       "      <th>4</th>\n",
       "      <td>3004</td>\n",
       "      <td>https://www.youtube.com/user/SuddenAttackmkt/v...</td>\n",
       "      <td>TOzR78dti5I</td>\n",
       "    </tr>\n",
       "    <tr>\n",
       "      <th>...</th>\n",
       "      <td>...</td>\n",
       "      <td>...</td>\n",
       "      <td>...</td>\n",
       "    </tr>\n",
       "    <tr>\n",
       "      <th>22115</th>\n",
       "      <td>26321</td>\n",
       "      <td>https://www.youtube.com/c/Warthunder/videos</td>\n",
       "      <td>0-J5Vg0SxLc</td>\n",
       "    </tr>\n",
       "    <tr>\n",
       "      <th>22116</th>\n",
       "      <td>26322</td>\n",
       "      <td>https://www.youtube.com/c/Warthunder/videos</td>\n",
       "      <td>kcOqzAKOc88</td>\n",
       "    </tr>\n",
       "    <tr>\n",
       "      <th>22117</th>\n",
       "      <td>26323</td>\n",
       "      <td>https://www.youtube.com/c/Warthunder/videos</td>\n",
       "      <td>GgC8UNa8dok</td>\n",
       "    </tr>\n",
       "    <tr>\n",
       "      <th>22118</th>\n",
       "      <td>26324</td>\n",
       "      <td>https://www.youtube.com/c/Warthunder/videos</td>\n",
       "      <td>anAu8xSE-Hs</td>\n",
       "    </tr>\n",
       "    <tr>\n",
       "      <th>22119</th>\n",
       "      <td>26325</td>\n",
       "      <td>https://www.youtube.com/c/Warthunder/videos</td>\n",
       "      <td>5EqSfyZb4Ys</td>\n",
       "    </tr>\n",
       "  </tbody>\n",
       "</table>\n",
       "<p>22120 rows × 3 columns</p>\n",
       "</div>"
      ],
      "text/plain": [
       "       Unnamed: 0                                               link  \\\n",
       "0            3000  https://www.youtube.com/user/SuddenAttackmkt/v...   \n",
       "1            3001  https://www.youtube.com/user/SuddenAttackmkt/v...   \n",
       "2            3002  https://www.youtube.com/user/SuddenAttackmkt/v...   \n",
       "3            3003  https://www.youtube.com/user/SuddenAttackmkt/v...   \n",
       "4            3004  https://www.youtube.com/user/SuddenAttackmkt/v...   \n",
       "...           ...                                                ...   \n",
       "22115       26321        https://www.youtube.com/c/Warthunder/videos   \n",
       "22116       26322        https://www.youtube.com/c/Warthunder/videos   \n",
       "22117       26323        https://www.youtube.com/c/Warthunder/videos   \n",
       "22118       26324        https://www.youtube.com/c/Warthunder/videos   \n",
       "22119       26325        https://www.youtube.com/c/Warthunder/videos   \n",
       "\n",
       "        channel_id  \n",
       "0      KeddIez8VQg  \n",
       "1      0CY1d1KdJs8  \n",
       "2      2Hl4-6DnrmM  \n",
       "3      g5r2scV0I-g  \n",
       "4      TOzR78dti5I  \n",
       "...            ...  \n",
       "22115  0-J5Vg0SxLc  \n",
       "22116  kcOqzAKOc88  \n",
       "22117  GgC8UNa8dok  \n",
       "22118  anAu8xSE-Hs  \n",
       "22119  5EqSfyZb4Ys  \n",
       "\n",
       "[22120 rows x 3 columns]"
      ]
     },
     "execution_count": 4,
     "metadata": {},
     "output_type": "execute_result"
    }
   ],
   "source": [
    "df"
   ]
  },
  {
   "cell_type": "code",
   "execution_count": 5,
   "id": "3a7270dc",
   "metadata": {},
   "outputs": [],
   "source": [
    "df40 = df[15000:15100]\n",
    "df41 = df[15100:15200]\n",
    "df42 = df[15200:15300]\n",
    "df43 = df[15300:15400]\n",
    "df44 = df[15400:15500]\n",
    "df45 = df[15500:15600]\n",
    "df46 = df[15600:15700]"
   ]
  },
  {
   "cell_type": "code",
   "execution_count": 6,
   "id": "56cc181d",
   "metadata": {},
   "outputs": [
    {
     "name": "stderr",
     "output_type": "stream",
     "text": [
      "\r",
      "  0%|                                                                                          | 0/100 [00:00<?, ?it/s]"
     ]
    },
    {
     "name": "stdout",
     "output_type": "stream",
     "text": [
      "> VIDEO TITLE: [그깟포커:ep12] 죽느냐 사느냐 선택의 순간!! #블랭크 #블러핑 #히어로콜 #한게임포커 #한게임 #NHN #예나콩 #홍예나 #홀덤 #그깟포커\n",
      "\n"
     ]
    },
    {
     "name": "stderr",
     "output_type": "stream",
     "text": [
      "\r",
      "  1%|▊                                                                                 | 1/100 [00:27<44:45, 27.13s/it]"
     ]
    },
    {
     "name": "stdout",
     "output_type": "stream",
     "text": [
      "> VIDEO TITLE: [그깟포커:ep9] 같은 족보일 때, 승자는? #한게임포커 #한게임 #NHN #예나콩 #홍예나 #홀덤 #키커 #kicker\n",
      "\n"
     ]
    },
    {
     "name": "stderr",
     "output_type": "stream",
     "text": [
      "\r",
      "  2%|█▋                                                                                | 2/100 [00:56<46:07, 28.24s/it]"
     ]
    },
    {
     "name": "stdout",
     "output_type": "stream",
     "text": [
      "> VIDEO TITLE: 인생은 삼세번이지 #한게임섯다 #한게임 #NHN #염보성\n",
      "\n"
     ]
    },
    {
     "name": "stderr",
     "output_type": "stream",
     "text": [
      "\r",
      "  3%|██▍                                                                               | 3/100 [01:30<50:01, 30.94s/it]"
     ]
    },
    {
     "name": "stdout",
     "output_type": "stream",
     "text": [
      "> VIDEO TITLE: 네가 내 에어라인을 짓밟으면 마 그땐 깡패가 되는 거야!\n",
      "\n"
     ]
    },
    {
     "name": "stderr",
     "output_type": "stream",
     "text": [
      "\r",
      "  4%|███▎                                                                              | 4/100 [01:55<45:39, 28.54s/it]"
     ]
    },
    {
     "name": "stdout",
     "output_type": "stream",
     "text": [
      "> VIDEO TITLE: 진정한 땡잡이 #한게임섯다 #섯다 #한게임 #NHN #기뉴다\n",
      "\n"
     ]
    },
    {
     "name": "stderr",
     "output_type": "stream",
     "text": [
      "\r",
      "  5%|████                                                                              | 5/100 [02:24<45:43, 28.87s/it]"
     ]
    },
    {
     "name": "stdout",
     "output_type": "stream",
     "text": [
      "> VIDEO TITLE: 속보) 엉망진창 보드에 핸드들 의문사 이어져...\n",
      "\n"
     ]
    },
    {
     "name": "stderr",
     "output_type": "stream",
     "text": [
      "\r",
      "  6%|████▉                                                                             | 6/100 [02:56<46:39, 29.78s/it]"
     ]
    },
    {
     "name": "stdout",
     "output_type": "stream",
     "text": [
      "> VIDEO TITLE: 미쳤습니까, 초이스 룰? (feat. K 포카드)\n",
      "\n"
     ]
    },
    {
     "name": "stderr",
     "output_type": "stream",
     "text": [
      "\r",
      "  7%|█████▋                                                                            | 7/100 [03:38<52:24, 33.81s/it]"
     ]
    },
    {
     "name": "stdout",
     "output_type": "stream",
     "text": [
      "> VIDEO TITLE: ❤김수현 아나운서가 빠진 '그'의 매력은?❤ [고인규의 콜링] 김수현 아나운서 2편 #모바일한게임포커 #김수현 #우왁굳 #고인규 #한게임포커\n",
      "\n"
     ]
    },
    {
     "name": "stderr",
     "output_type": "stream",
     "text": [
      "\r",
      "  8%|██████▌                                                                           | 8/100 [04:10<51:02, 33.29s/it]"
     ]
    },
    {
     "name": "stdout",
     "output_type": "stream",
     "text": [
      "> VIDEO TITLE: 포플로 제대로 엮였다! 초고수들의 치열한 심리전 중계!\n",
      "\n"
     ]
    },
    {
     "name": "stderr",
     "output_type": "stream",
     "text": [
      "\r",
      "  9%|███████▍                                                                          | 9/100 [04:49<53:10, 35.06s/it]"
     ]
    },
    {
     "name": "stdout",
     "output_type": "stream",
     "text": [
      "> VIDEO TITLE: 홀덤, 로우바둑이, 7포커까지.. 모조리 보여준다!\n",
      "\n"
     ]
    },
    {
     "name": "stderr",
     "output_type": "stream",
     "text": [
      "\r",
      " 10%|████████                                                                         | 10/100 [05:30<55:29, 36.99s/it]"
     ]
    },
    {
     "name": "stdout",
     "output_type": "stream",
     "text": [
      "> VIDEO TITLE: 50억 토너 도전하시겠습니까? ♠한게임포커 홀덤♠\n",
      "\n"
     ]
    },
    {
     "name": "stderr",
     "output_type": "stream",
     "text": [
      "\r",
      " 11%|████████▉                                                                        | 11/100 [05:57<50:11, 33.83s/it]"
     ]
    },
    {
     "name": "stdout",
     "output_type": "stream",
     "text": [
      "> VIDEO TITLE: [포.무.도 4화] 이 게임을 끝내러 왔다\n",
      "\n"
     ]
    },
    {
     "name": "stderr",
     "output_type": "stream",
     "text": [
      "\r",
      " 12%|█████████▋                                                                       | 12/100 [06:36<52:05, 35.52s/it]"
     ]
    },
    {
     "name": "stdout",
     "output_type": "stream",
     "text": [
      "> VIDEO TITLE: 또 다시 로또 당첨!!! 언젠가는 큰거 터진다![행운의섯다 ep.6]\n",
      "\n"
     ]
    },
    {
     "name": "stderr",
     "output_type": "stream",
     "text": [
      "\r",
      " 13%|██████████▌                                                                      | 13/100 [07:12<51:26, 35.47s/it]"
     ]
    },
    {
     "name": "stdout",
     "output_type": "stream",
     "text": [
      "> VIDEO TITLE: [ENG SUB] 한게임포커 ep 6 올인 밖에 모르는 바보... #한게임포커 #한게임 #임요환 #홍진호홍진호 #임진록 #BOXER #YELLOW\n",
      "\n"
     ]
    },
    {
     "name": "stderr",
     "output_type": "stream",
     "text": [
      "\r",
      " 14%|███████████▎                                                                     | 14/100 [07:47<50:59, 35.57s/it]"
     ]
    },
    {
     "name": "stdout",
     "output_type": "stream",
     "text": [
      "> VIDEO TITLE: 돌발 상황 시 당신의 순발력은? [60초 나혼자섯다]\n",
      "\n"
     ]
    },
    {
     "name": "stderr",
     "output_type": "stream",
     "text": [
      "\r",
      " 15%|████████████▏                                                                    | 15/100 [08:23<50:32, 35.68s/it]"
     ]
    },
    {
     "name": "stdout",
     "output_type": "stream",
     "text": [
      "> VIDEO TITLE: [모바일한게임 포커] 금빛이 내린다~ '골든 홀덤' 업데이트!\n",
      "\n"
     ]
    },
    {
     "name": "stderr",
     "output_type": "stream",
     "text": [
      "\r",
      " 16%|████████████▉                                                                    | 16/100 [09:18<58:06, 41.50s/it]"
     ]
    },
    {
     "name": "stdout",
     "output_type": "stream",
     "text": [
      "> VIDEO TITLE: 섯다 족보에도 상성 관계가 있다는 사실! [60초 2장 섯다]\n",
      "\n"
     ]
    },
    {
     "name": "stderr",
     "output_type": "stream",
     "text": [
      "\r",
      " 17%|█████████████▊                                                                   | 17/100 [09:44<50:49, 36.74s/it]"
     ]
    },
    {
     "name": "stdout",
     "output_type": "stream",
     "text": [
      "> VIDEO TITLE: 삐잉 삐잉~ 삥아리~ 따당 따당~ 사냥꾼~ 2억방의 석양이 진다..🔫\n",
      "\n"
     ]
    },
    {
     "name": "stderr",
     "output_type": "stream",
     "text": [
      "\r",
      " 18%|██████████████▌                                                                  | 18/100 [10:10<45:52, 33.57s/it]"
     ]
    },
    {
     "name": "stdout",
     "output_type": "stream",
     "text": [
      "> VIDEO TITLE: 홀덤으로 생애 첫 별풍선 미션 가능할까?? #고인규 #홀덤 #한게임 #포커 #7포커 #바둑이\n",
      "\n"
     ]
    },
    {
     "name": "stderr",
     "output_type": "stream",
     "text": [
      "\r",
      " 19%|███████████████▍                                                                 | 19/100 [10:42<44:35, 33.03s/it]"
     ]
    },
    {
     "name": "stdout",
     "output_type": "stream",
     "text": [
      "> VIDEO TITLE: 미안하다 이거 보여주려고 어그로 끌었다...\n",
      "\n"
     ]
    },
    {
     "name": "stderr",
     "output_type": "stream",
     "text": [
      "\r",
      " 20%|████████████████▏                                                                | 20/100 [11:14<43:45, 32.82s/it]"
     ]
    },
    {
     "name": "stdout",
     "output_type": "stream",
     "text": [
      "> VIDEO TITLE: [그깟포커:ep8] 유형별 한게임포커 유튜브!! #홈트 #웹드라마 #브이로그 #한게임포커 #한게임 #NHN #예나콩 #홍예나\n",
      "\n"
     ]
    },
    {
     "name": "stderr",
     "output_type": "stream",
     "text": [
      "\r",
      " 21%|█████████████████                                                                | 21/100 [11:50<44:26, 33.75s/it]"
     ]
    },
    {
     "name": "stdout",
     "output_type": "stream",
     "text": [
      "> VIDEO TITLE: [그깟포커:ep3] 예나콩이 Set과 Trips를 알려드립니다. #홀덤 #한게임포커 #한게임 #NHN #예나콩 #홍예나 #Trips #Set\n",
      "\n"
     ]
    },
    {
     "name": "stderr",
     "output_type": "stream",
     "text": [
      "\r",
      " 22%|█████████████████▊                                                               | 22/100 [12:22<42:54, 33.01s/it]"
     ]
    },
    {
     "name": "stdout",
     "output_type": "stream",
     "text": [
      "> VIDEO TITLE: 존버하니까 결국 로또 당첨이 되버렸습니다!!![행운의섯다 ep.4]\n",
      "\n"
     ]
    },
    {
     "name": "stderr",
     "output_type": "stream",
     "text": [
      "\r",
      " 23%|██████████████████▋                                                              | 23/100 [13:11<48:51, 38.07s/it]"
     ]
    },
    {
     "name": "stdout",
     "output_type": "stream",
     "text": [
      "> VIDEO TITLE: 최고의 스승을 만나다!! [예나콩이 간다 1회] #한게임포커 #한게임 #NHN #예나콩 #변형태 #포커 #7포커\n",
      "\n"
     ]
    },
    {
     "name": "stderr",
     "output_type": "stream",
     "text": [
      "\r",
      " 24%|███████████████████▍                                                             | 24/100 [13:54<50:05, 39.54s/it]"
     ]
    },
    {
     "name": "stdout",
     "output_type": "stream",
     "text": [
      "> VIDEO TITLE: 이 집 핸드 잘하네 ~\n",
      "\n"
     ]
    },
    {
     "name": "stderr",
     "output_type": "stream",
     "text": [
      "\r",
      " 25%|████████████████████▎                                                            | 25/100 [14:23<45:20, 36.28s/it]"
     ]
    },
    {
     "name": "stdout",
     "output_type": "stream",
     "text": [
      "> VIDEO TITLE: 멍 때린 유저 베팅으로 혼내줬습니다\n",
      "\n"
     ]
    },
    {
     "name": "stderr",
     "output_type": "stream",
     "text": [
      "\r",
      " 26%|█████████████████████                                                            | 26/100 [15:08<47:56, 38.87s/it]"
     ]
    },
    {
     "name": "stdout",
     "output_type": "stream",
     "text": [
      "> VIDEO TITLE: 한게임포커 클래식의 콜라보 클래스! 우주에처 펼쳐지는 포커 대결의 승자는?!\n",
      "\n"
     ]
    },
    {
     "name": "stderr",
     "output_type": "stream",
     "text": [
      "\r",
      " 27%|█████████████████████▊                                                           | 27/100 [15:43<46:01, 37.82s/it]"
     ]
    },
    {
     "name": "stdout",
     "output_type": "stream",
     "text": [
      "> VIDEO TITLE: [그깟포커:ep10] 홀덤에서 당신이 적게 따고 많이 잃는 이유 #한게임포커 #한게임 #NHN #예나콩 #홍예나 #홀덤 #벨류벳 #배드빗 #그깟포커\n",
      "\n"
     ]
    },
    {
     "name": "stderr",
     "output_type": "stream",
     "text": [
      "\r",
      " 28%|██████████████████████▋                                                          | 28/100 [16:28<47:39, 39.72s/it]"
     ]
    },
    {
     "name": "stdout",
     "output_type": "stream",
     "text": [
      "> VIDEO TITLE: [포.무.도 3화] 하드캐리 문제있어?\n",
      "\n"
     ]
    },
    {
     "name": "stderr",
     "output_type": "stream",
     "text": [
      "\r",
      " 29%|███████████████████████▍                                                         | 29/100 [17:18<50:47, 42.93s/it]"
     ]
    },
    {
     "name": "stdout",
     "output_type": "stream",
     "text": [
      "> VIDEO TITLE: [한게임 포커] 포커무한도전2화 #포무도 #고인규 #홍예나 #유대현 #머현이형 #한게임 #한게임포커 #한게임로우바둑이 #nhn\n",
      "\n"
     ]
    },
    {
     "name": "stderr",
     "output_type": "stream",
     "text": [
      "\r",
      " 30%|████████████████████████▎                                                        | 30/100 [18:02<50:35, 43.36s/it]"
     ]
    },
    {
     "name": "stdout",
     "output_type": "stream",
     "text": [
      "> VIDEO TITLE: 어이 뒷발차기!! 믿고 있었다구!!!\n",
      "\n"
     ]
    },
    {
     "name": "stderr",
     "output_type": "stream",
     "text": [
      "\r",
      " 31%|█████████████████████████                                                        | 31/100 [18:37<46:52, 40.76s/it]"
     ]
    },
    {
     "name": "stdout",
     "output_type": "stream",
     "text": [
      "> VIDEO TITLE: 콩콩절에 한게임을 찾아온 홍진호! 그 뒷얘기를 들어보자 #한게임포커 #홍진호홍진호 #임진록 #한게임 #임요환\n",
      "\n"
     ]
    },
    {
     "name": "stderr",
     "output_type": "stream",
     "text": [
      "\r",
      " 32%|█████████████████████████▉                                                       | 32/100 [19:12<44:10, 38.97s/it]"
     ]
    },
    {
     "name": "stdout",
     "output_type": "stream",
     "text": [
      "> VIDEO TITLE: 엌 ㅋㅋ 홍구는 이게 되네~? #한게임 #한게임섯다 #섯다 @액션홍구\n",
      "\n"
     ]
    },
    {
     "name": "stderr",
     "output_type": "stream",
     "text": [
      "\r",
      " 33%|██████████████████████████▋                                                      | 33/100 [19:49<42:57, 38.47s/it]"
     ]
    },
    {
     "name": "stdout",
     "output_type": "stream",
     "text": [
      "> VIDEO TITLE: 정신과 시간의 300만 방...! 운명이 소용돌이 친다!!\n",
      "\n"
     ]
    },
    {
     "name": "stderr",
     "output_type": "stream",
     "text": [
      "\r",
      " 34%|███████████████████████████▌                                                     | 34/100 [20:22<40:30, 36.83s/it]"
     ]
    },
    {
     "name": "stdout",
     "output_type": "stream",
     "text": [
      "> VIDEO TITLE: [추석특집] 한게임포커 몰아보기 2편\n",
      "\n"
     ]
    },
    {
     "name": "stderr",
     "output_type": "stream",
     "text": [
      "\r",
      " 35%|████████████████████████████▎                                                    | 35/100 [20:56<38:57, 35.96s/it]"
     ]
    },
    {
     "name": "stdout",
     "output_type": "stream",
     "text": [
      "> VIDEO TITLE: 답은 정해져 있고 나는 Q만 나오면 돼\n",
      "\n"
     ]
    },
    {
     "name": "stderr",
     "output_type": "stream",
     "text": [
      "\r",
      " 36%|█████████████████████████████▏                                                   | 36/100 [21:26<36:27, 34.18s/it]"
     ]
    },
    {
     "name": "stdout",
     "output_type": "stream",
     "text": [
      "> VIDEO TITLE: 7포커로 상한가 간다! 떡상 가즈아아아아\n",
      "\n"
     ]
    },
    {
     "name": "stderr",
     "output_type": "stream",
     "text": [
      "\r",
      " 37%|█████████████████████████████▉                                                   | 37/100 [22:17<41:04, 39.12s/it]"
     ]
    },
    {
     "name": "stdout",
     "output_type": "stream",
     "text": [
      "> VIDEO TITLE: 기뉴다 바둑이에서 트리플을 만드는 남자 #기뉴다 #한게임포커 #한게임포커클래식 #로우바둑이\n",
      "\n"
     ]
    },
    {
     "name": "stderr",
     "output_type": "stream",
     "text": [
      "\r",
      " 38%|██████████████████████████████▊                                                  | 38/100 [22:50<38:32, 37.30s/it]"
     ]
    },
    {
     "name": "stdout",
     "output_type": "stream",
     "text": [
      "> VIDEO TITLE: 한게임포커 클래식 BJ 포커 마스터즈 : 프로게이머 BJ편\n",
      "\n"
     ]
    },
    {
     "name": "stderr",
     "output_type": "stream",
     "text": [
      "\r",
      " 39%|███████████████████████████████▌                                                 | 39/100 [23:24<36:56, 36.34s/it]"
     ]
    },
    {
     "name": "stdout",
     "output_type": "stream",
     "text": [
      "> VIDEO TITLE: 홍진호의 놀라운 계획 [한게임포커20주년 기념 토너먼트] #홍진호 #홍진호 #한게임 #한게임포커 #한게임포커클래식 #김윤환 #염보성 #에디린 #임선비 #난닝구 #도재욱\n",
      "\n"
     ]
    },
    {
     "name": "stderr",
     "output_type": "stream",
     "text": [
      "\r",
      " 40%|████████████████████████████████▍                                                | 40/100 [24:03<37:13, 37.23s/it]"
     ]
    },
    {
     "name": "stdout",
     "output_type": "stream",
     "text": [
      "> VIDEO TITLE: 게임 터졌습니다\n",
      "\n"
     ]
    },
    {
     "name": "stderr",
     "output_type": "stream",
     "text": [
      "\r",
      " 41%|█████████████████████████████████▏                                               | 41/100 [24:32<34:04, 34.65s/it]"
     ]
    },
    {
     "name": "stdout",
     "output_type": "stream",
     "text": [
      "> VIDEO TITLE: [ENG SUB] 한게임포커 ep 8: 임vs콩, 팽팽한 두뇌싸움의 결과는?!\n",
      "\n"
     ]
    },
    {
     "name": "stderr",
     "output_type": "stream",
     "text": [
      "\r",
      " 42%|██████████████████████████████████                                               | 42/100 [25:07<33:44, 34.91s/it]"
     ]
    },
    {
     "name": "stdout",
     "output_type": "stream",
     "text": [
      "> VIDEO TITLE: 나는푸르 커버댄스 대참사 [한게임포커20주년 기념 토너먼트] #나는푸르 #한게임 #한게임포커 #로우바둑이 #홍진호 #기뉴다 #최군 #난닝구 #전태규 #nhn\n",
      "\n"
     ]
    },
    {
     "name": "stderr",
     "output_type": "stream",
     "text": [
      "\r",
      " 43%|██████████████████████████████████▊                                              | 43/100 [25:59<37:49, 39.81s/it]"
     ]
    },
    {
     "name": "stdout",
     "output_type": "stream",
     "text": [
      "> VIDEO TITLE: 일땡춘몽 #한게임섯다 #한게임 #섯다 #기뉴다 #NHN\n",
      "\n"
     ]
    },
    {
     "name": "stderr",
     "output_type": "stream",
     "text": [
      "\r",
      " 44%|███████████████████████████████████▋                                             | 44/100 [26:45<38:53, 41.67s/it]"
     ]
    },
    {
     "name": "stdout",
     "output_type": "stream",
     "text": [
      "> VIDEO TITLE: [단독] 2020년 2월 22일 임진록 현장 단독 공개!! #임요환 #홍진호 #홍진호 #콩콩데이 #한게임포커 #임진록\n",
      "\n"
     ]
    },
    {
     "name": "stderr",
     "output_type": "stream",
     "text": [
      "\r",
      " 45%|████████████████████████████████████▍                                            | 45/100 [27:20<36:25, 39.74s/it]"
     ]
    },
    {
     "name": "stdout",
     "output_type": "stream",
     "text": [
      "> VIDEO TITLE: 홀덤에서도 능욕 플레이가 가능합니다\n",
      "\n"
     ]
    },
    {
     "name": "stderr",
     "output_type": "stream",
     "text": [
      "\r",
      " 46%|█████████████████████████████████████▎                                           | 46/100 [27:49<32:58, 36.64s/it]"
     ]
    },
    {
     "name": "stdout",
     "output_type": "stream",
     "text": [
      "> VIDEO TITLE: \"한게임섯다에 맞고모드 업데이트 임박했다.. 이게 내 결론이다\" #한게임섯다n맞고\n",
      "\n"
     ]
    },
    {
     "name": "stderr",
     "output_type": "stream",
     "text": [
      "\r",
      " 47%|██████████████████████████████████████                                           | 47/100 [28:24<31:47, 36.00s/it]"
     ]
    },
    {
     "name": "stdout",
     "output_type": "stream",
     "text": [
      "> VIDEO TITLE: 가~ (가지마~) #한게임섯다 #한게임 #NHN #나는푸르\n",
      "\n"
     ]
    },
    {
     "name": "stderr",
     "output_type": "stream",
     "text": [
      "\r",
      " 48%|██████████████████████████████████████▉                                          | 48/100 [28:59<31:03, 35.84s/it]"
     ]
    },
    {
     "name": "stdout",
     "output_type": "stream",
     "text": [
      "> VIDEO TITLE: 나오기 쉽지 않은 전원 XX인 판 [60초 나혼자섯다]\n",
      "\n"
     ]
    },
    {
     "name": "stderr",
     "output_type": "stream",
     "text": [
      "\r",
      " 49%|███████████████████████████████████████▋                                         | 49/100 [29:37<30:56, 36.40s/it]"
     ]
    },
    {
     "name": "stdout",
     "output_type": "stream",
     "text": [
      "> VIDEO TITLE: 한게임포커 클래식 BJ 포커 마스터즈 : 맥스의 신\n",
      "\n"
     ]
    },
    {
     "name": "stderr",
     "output_type": "stream",
     "text": [
      "\r",
      " 50%|████████████████████████████████████████▌                                        | 50/100 [30:14<30:27, 36.54s/it]"
     ]
    },
    {
     "name": "stdout",
     "output_type": "stream",
     "text": [
      "> VIDEO TITLE: 매주 섯다로 로또 번호를 예측해드립니다! 드루와 드루와! [행운의섯다 ep.1]\n",
      "\n"
     ]
    },
    {
     "name": "stderr",
     "output_type": "stream",
     "text": [
      "\r",
      " 51%|█████████████████████████████████████████▎                                       | 51/100 [30:48<29:22, 35.96s/it]"
     ]
    },
    {
     "name": "stdout",
     "output_type": "stream",
     "text": [
      "> VIDEO TITLE: 싸늘하다 올인의 기운이 귓가에 스친다. #한게임 #한게임섯다 #섯다 @따규햅번 오락실\n",
      "\n"
     ]
    },
    {
     "name": "stderr",
     "output_type": "stream",
     "text": [
      "\r",
      " 52%|██████████████████████████████████████████                                       | 52/100 [31:37<31:45, 39.70s/it]"
     ]
    },
    {
     "name": "stdout",
     "output_type": "stream",
     "text": [
      "> VIDEO TITLE: [모바일한게임포커] 한 수 위 플레이, 한 수 위 즐거움! - 임요환,홍진호 전격출연!_15s #임요환 #홍진호 #콩데이 #한게임포커 #임진록\n",
      "\n"
     ]
    },
    {
     "name": "stderr",
     "output_type": "stream",
     "text": [
      "\r",
      " 53%|██████████████████████████████████████████▉                                      | 53/100 [32:24<32:55, 42.03s/it]"
     ]
    },
    {
     "name": "stdout",
     "output_type": "stream",
     "text": [
      "> VIDEO TITLE: LCK 중계를 함께 했었던 그들이 여기서.. [고인규의 콜링] 왜냐맨(장민철) 편 #모바일한게임포커 #장민철 #왜냐맨 #삼십세들 #킹냐 #고인규 #한게임포커\n",
      "\n"
     ]
    },
    {
     "name": "stderr",
     "output_type": "stream",
     "text": [
      "\r",
      " 54%|███████████████████████████████████████████▋                                     | 54/100 [32:58<30:20, 39.58s/it]"
     ]
    },
    {
     "name": "stdout",
     "output_type": "stream",
     "text": [
      "> VIDEO TITLE: 산으로 간 예나콩, 실력도 산으로? [예나콩이 간다 3회] #한게임포커 #한게임포커클래식 #한게임 #NHN #예나콩 #포커 #7포커 #청계산 #옥녀봉\n",
      "\n"
     ]
    },
    {
     "name": "stderr",
     "output_type": "stream",
     "text": [
      "\r",
      " 55%|████████████████████████████████████████████▌                                    | 55/100 [33:33<28:35, 38.12s/it]"
     ]
    },
    {
     "name": "stdout",
     "output_type": "stream",
     "text": [
      "> VIDEO TITLE: (충전으로) 더 강해져서 돌아와라... 680억짜리 판!!\n",
      "\n"
     ]
    },
    {
     "name": "stderr",
     "output_type": "stream",
     "text": [
      "\r",
      " 56%|█████████████████████████████████████████████▎                                   | 56/100 [34:11<27:59, 38.16s/it]"
     ]
    },
    {
     "name": "stdout",
     "output_type": "stream",
     "text": [
      "> VIDEO TITLE: 카드가 이렇게 뜨는데 왜 짐?\n",
      "\n"
     ]
    },
    {
     "name": "stderr",
     "output_type": "stream",
     "text": [
      "\r",
      " 57%|██████████████████████████████████████████████▏                                  | 57/100 [34:49<27:18, 38.11s/it]"
     ]
    },
    {
     "name": "stdout",
     "output_type": "stream",
     "text": [
      "> VIDEO TITLE: 염보성의 블러핑 기술 [#한게임포커 20주년 기념 토너먼트] #염보성 #한게임포커 #홍진호#홍진호 #김윤환 #에디린 #임선비 #난닝구 #도재욱 #정윤종 #한게임포커클래식\n",
      "\n"
     ]
    },
    {
     "name": "stderr",
     "output_type": "stream",
     "text": [
      "\r",
      " 58%|██████████████████████████████████████████████▉                                  | 58/100 [35:21<25:17, 36.14s/it]"
     ]
    },
    {
     "name": "stdout",
     "output_type": "stream",
     "text": [
      "> VIDEO TITLE: 선생님 저랑 오징어게임..아니! 한게임포커 한 번 하시겠습니까?\n",
      "\n"
     ]
    },
    {
     "name": "stderr",
     "output_type": "stream",
     "text": [
      "\r",
      " 59%|███████████████████████████████████████████████▊                                 | 59/100 [36:15<28:22, 41.52s/it]"
     ]
    },
    {
     "name": "stdout",
     "output_type": "stream",
     "text": [
      "> VIDEO TITLE: 4시간짜리 엑기스만 뽑았다! 2억 방 1000억 출!!\n",
      "\n"
     ]
    },
    {
     "name": "stderr",
     "output_type": "stream",
     "text": [
      "\r",
      " 60%|████████████████████████████████████████████████▌                                | 60/100 [36:55<27:27, 41.18s/it]"
     ]
    },
    {
     "name": "stdout",
     "output_type": "stream",
     "text": [
      "> VIDEO TITLE: 점심에 과식하면 저녁에 탈난다고? 로우바둑이 한판승부!\n",
      "\n"
     ]
    },
    {
     "name": "stderr",
     "output_type": "stream",
     "text": [
      "\r",
      " 61%|█████████████████████████████████████████████████▍                               | 61/100 [37:29<25:20, 38.99s/it]"
     ]
    },
    {
     "name": "stdout",
     "output_type": "stream",
     "text": [
      "> VIDEO TITLE: [그깟포커:ep13] all about call 콜의 모든 것 #콜 #한게임포커 #한게임 #NHN #예나콩 #홍예나 #홀덤 #그깟포커 #콜드콜 #스냅콜 #크라잉콜 #플랫콜\n",
      "\n"
     ]
    },
    {
     "name": "stderr",
     "output_type": "stream",
     "text": [
      "\r",
      " 62%|██████████████████████████████████████████████████▏                              | 62/100 [38:04<23:55, 37.77s/it]"
     ]
    },
    {
     "name": "stdout",
     "output_type": "stream",
     "text": [
      "> VIDEO TITLE: 이 영상 보면 너도 로우 바둑이 고수! 바둑이의 神 '코인'규의 로우바둑이 강의 ~이론편~ #한게임 #NHN #로우바둑이 #한게임포커 #고인규\n",
      "\n"
     ]
    },
    {
     "name": "stderr",
     "output_type": "stream",
     "text": [
      "\r",
      " 63%|███████████████████████████████████████████████████                              | 63/100 [38:38<22:33, 36.58s/it]"
     ]
    },
    {
     "name": "stdout",
     "output_type": "stream",
     "text": [
      "> VIDEO TITLE: 포지션이 베팅을 만든다\n",
      "\n"
     ]
    },
    {
     "name": "stderr",
     "output_type": "stream",
     "text": [
      "\r",
      " 64%|███████████████████████████████████████████████████▊                             | 64/100 [39:12<21:31, 35.87s/it]"
     ]
    },
    {
     "name": "stdout",
     "output_type": "stream",
     "text": [
      "> VIDEO TITLE: [ENG SUB] 한게임포커 ep 4 콩진호가 직접 밝힌 임요환한테 안되는(?) 이유 #임요환 #홍진호 #콩콩데이 #한게임포커 #임진록 #콩콩절 #BOXER #YELLOW\n",
      "\n"
     ]
    },
    {
     "name": "stderr",
     "output_type": "stream",
     "text": [
      "\r",
      " 65%|████████████████████████████████████████████████████▋                            | 65/100 [39:48<20:55, 35.88s/it]"
     ]
    },
    {
     "name": "stdout",
     "output_type": "stream",
     "text": [
      "> VIDEO TITLE: 곽민선의 선택은? 모바일 한게임 포커와 함께하는 토크쇼![한게임 톡톡톡 EP.4]\n",
      "\n"
     ]
    },
    {
     "name": "stderr",
     "output_type": "stream",
     "text": [
      "\r",
      " 66%|█████████████████████████████████████████████████████▍                           | 66/100 [40:31<21:34, 38.08s/it]"
     ]
    },
    {
     "name": "stdout",
     "output_type": "stream",
     "text": [
      "> VIDEO TITLE: 전태규님 여기서 이러시면 #매우 좋습니다 #한게임포커 #한게임포커클래식 #로우바둑이 #전태규\n",
      "\n"
     ]
    },
    {
     "name": "stderr",
     "output_type": "stream",
     "text": [
      "\r",
      " 67%|██████████████████████████████████████████████████████▎                          | 67/100 [41:08<20:46, 37.76s/it]"
     ]
    },
    {
     "name": "stdout",
     "output_type": "stream",
     "text": [
      "> VIDEO TITLE: [포.무.도 1-3화] 상상도 못한 운빨 ㄴ(°0°)ㄱ\n",
      "\n"
     ]
    },
    {
     "name": "stderr",
     "output_type": "stream",
     "text": [
      "\r",
      " 68%|███████████████████████████████████████████████████████                          | 68/100 [41:41<19:24, 36.38s/it]"
     ]
    },
    {
     "name": "stdout",
     "output_type": "stream",
     "text": [
      "> VIDEO TITLE: 홀덤의 신\n",
      "\n"
     ]
    },
    {
     "name": "stderr",
     "output_type": "stream",
     "text": [
      "\r",
      " 69%|███████████████████████████████████████████████████████▉                         | 69/100 [42:15<18:24, 35.62s/it]"
     ]
    },
    {
     "name": "stdout",
     "output_type": "stream",
     "text": [
      "> VIDEO TITLE: 한게임 포커 : 예나와 두근두근 포커데이트 2화 (feat.포린이 남자친구) #한게임포커 #포커 #7포커 #한게임 #예나콩 #홍예나 #poker #hangame #nhn\n",
      "\n"
     ]
    },
    {
     "name": "stderr",
     "output_type": "stream",
     "text": [
      "\r",
      " 70%|████████████████████████████████████████████████████████▋                        | 70/100 [42:55<18:23, 36.80s/it]"
     ]
    },
    {
     "name": "stdout",
     "output_type": "stream",
     "text": [
      "> VIDEO TITLE: [포.무.도 5화] 누가 최고인지 결판을 냈습니다.\n",
      "\n"
     ]
    },
    {
     "name": "stderr",
     "output_type": "stream",
     "text": [
      "\r",
      " 71%|█████████████████████████████████████████████████████████▌                       | 71/100 [43:31<17:43, 36.67s/it]"
     ]
    },
    {
     "name": "stdout",
     "output_type": "stream",
     "text": [
      "> VIDEO TITLE: 포플스 선정, \"가장 어이 없는 콜 베팅 경기 1위\" (아님)\n",
      "\n"
     ]
    },
    {
     "name": "stderr",
     "output_type": "stream",
     "text": [
      "\r",
      " 72%|██████████████████████████████████████████████████████████▎                      | 72/100 [44:01<16:14, 34.81s/it]"
     ]
    },
    {
     "name": "stdout",
     "output_type": "stream",
     "text": [
      "> VIDEO TITLE: 첫 중계부터 대박 족보 뜬 거 실화야? [60초 2장 섯다]\n",
      "\n"
     ]
    },
    {
     "name": "stderr",
     "output_type": "stream",
     "text": [
      "\r",
      " 73%|███████████████████████████████████████████████████████████▏                     | 73/100 [44:39<16:01, 35.59s/it]"
     ]
    },
    {
     "name": "stdout",
     "output_type": "stream",
     "text": [
      "> VIDEO TITLE: 설레발은 금지 [60초 나혼자섯다]\n",
      "\n"
     ]
    },
    {
     "name": "stderr",
     "output_type": "stream",
     "text": [
      "\r",
      " 74%|███████████████████████████████████████████████████████████▉                     | 74/100 [45:39<18:34, 42.88s/it]"
     ]
    },
    {
     "name": "stdout",
     "output_type": "stream",
     "text": [
      "> VIDEO TITLE: 한게임포커 클래식의 콜라보 클래스! 김성모 작가의 신작 확인! #한게임 #한게임포커 #한게임포커 클래식\n",
      "\n"
     ]
    },
    {
     "name": "stderr",
     "output_type": "stream",
     "text": [
      "\r",
      " 75%|████████████████████████████████████████████████████████████▊                    | 75/100 [46:14<16:55, 40.62s/it]"
     ]
    },
    {
     "name": "stdout",
     "output_type": "stream",
     "text": [
      "> VIDEO TITLE: [한게임섯다]화투 말이 참 예뻐요. #한게임 #섯다 #한게임섯다 #고인규 #정마담\n",
      "\n"
     ]
    },
    {
     "name": "stderr",
     "output_type": "stream",
     "text": [
      "\r",
      " 76%|█████████████████████████████████████████████████████████████▌                   | 76/100 [46:49<15:35, 38.98s/it]"
     ]
    },
    {
     "name": "stdout",
     "output_type": "stream",
     "text": [
      "> VIDEO TITLE: 속보입니다! 4구포플 여러분들의 속이 다 보입니다\n",
      "\n"
     ]
    },
    {
     "name": "stderr",
     "output_type": "stream",
     "text": [
      "\r",
      " 77%|██████████████████████████████████████████████████████████████▎                  | 77/100 [47:28<14:51, 38.78s/it]"
     ]
    },
    {
     "name": "stdout",
     "output_type": "stream",
     "text": [
      "> VIDEO TITLE: 타짜 선비 ㅇㅈ? #한게임섯다 #섯다 #한게임 #임선비\n",
      "\n"
     ]
    },
    {
     "name": "stderr",
     "output_type": "stream",
     "text": [
      "\r",
      " 78%|███████████████████████████████████████████████████████████████▏                 | 78/100 [48:01<13:35, 37.07s/it]"
     ]
    },
    {
     "name": "stdout",
     "output_type": "stream",
     "text": [
      "> VIDEO TITLE: [한게임섯다]이것이 바로, 은평9아귀_배짱승부#nhn #한게임 #코인규 #은평9아귀 #섯다 #한게임섯다\n",
      "\n"
     ]
    },
    {
     "name": "stderr",
     "output_type": "stream",
     "text": [
      "\r",
      " 79%|███████████████████████████████████████████████████████████████▉                 | 79/100 [48:38<13:00, 37.15s/it]"
     ]
    },
    {
     "name": "stdout",
     "output_type": "stream",
     "text": [
      "> VIDEO TITLE: 홍진호의 폭풍 잔소리가 휘몰아친다!\n",
      "\n"
     ]
    },
    {
     "name": "stderr",
     "output_type": "stream",
     "text": [
      "\r",
      " 80%|████████████████████████████████████████████████████████████████▊                | 80/100 [49:14<12:17, 36.87s/it]"
     ]
    },
    {
     "name": "stdout",
     "output_type": "stream",
     "text": [
      "> VIDEO TITLE: 한게임포커 클래식 BJ 포커 마스터즈 : 머니의 신\n",
      "\n"
     ]
    },
    {
     "name": "stderr",
     "output_type": "stream",
     "text": [
      "\r",
      " 81%|█████████████████████████████████████████████████████████████████▌               | 81/100 [50:00<12:33, 39.68s/it]"
     ]
    },
    {
     "name": "stdout",
     "output_type": "stream",
     "text": [
      "> VIDEO TITLE: 섯다에서도 통하는 프로게이머 DNA #한게임 #한게임섯다 #섯다 @따규햅번 오락실\n",
      "\n"
     ]
    },
    {
     "name": "stderr",
     "output_type": "stream",
     "text": [
      "\r",
      " 82%|██████████████████████████████████████████████████████████████████▍              | 82/100 [50:31<11:07, 37.10s/it]"
     ]
    },
    {
     "name": "stdout",
     "output_type": "stream",
     "text": [
      "> VIDEO TITLE: 차마 눈 뜨고 보기 힘든 처참한 광경 ㅠㅠ\n",
      "\n"
     ]
    },
    {
     "name": "stderr",
     "output_type": "stream",
     "text": [
      "\r",
      " 83%|███████████████████████████████████████████████████████████████████▏             | 83/100 [51:07<10:22, 36.59s/it]"
     ]
    },
    {
     "name": "stdout",
     "output_type": "stream",
     "text": [
      "> VIDEO TITLE: 포커로 동화를 만드는 게임 해설가가 있다?\n",
      "\n"
     ]
    },
    {
     "name": "stderr",
     "output_type": "stream",
     "text": [
      "\r",
      " 84%|████████████████████████████████████████████████████████████████████             | 84/100 [51:42<09:36, 36.00s/it]"
     ]
    },
    {
     "name": "stdout",
     "output_type": "stream",
     "text": [
      "> VIDEO TITLE: 고인규가 이현경 아나운서와 통화 중 고개를 숙인 이유는?! [고인규의 콜링] 이현경 아나운서 편 #한게임포커 #고인규 #이현경\n",
      "\n"
     ]
    },
    {
     "name": "stderr",
     "output_type": "stream",
     "text": [
      "\r",
      " 85%|████████████████████████████████████████████████████████████████████▊            | 85/100 [52:17<08:57, 35.83s/it]"
     ]
    },
    {
     "name": "stdout",
     "output_type": "stream",
     "text": [
      "> VIDEO TITLE: 한게임 로우바둑이 [고인규] 두시간에 골프,세컨드,써드 다섯번??\n",
      "\n"
     ]
    },
    {
     "name": "stderr",
     "output_type": "stream",
     "text": [
      "\r",
      " 86%|█████████████████████████████████████████████████████████████████████▋           | 86/100 [52:51<08:14, 35.33s/it]"
     ]
    },
    {
     "name": "stdout",
     "output_type": "stream",
     "text": [
      "> VIDEO TITLE: 홍진호한테 한게임 7포커 해설 시켰습니다\n",
      "\n"
     ]
    },
    {
     "name": "stderr",
     "output_type": "stream",
     "text": [
      "\r",
      " 87%|██████████████████████████████████████████████████████████████████████▍          | 87/100 [54:41<12:28, 57.55s/it]"
     ]
    },
    {
     "name": "stdout",
     "output_type": "stream",
     "text": [
      "> VIDEO TITLE: 뭘 상상하든 그 이상.... 역대급 포커극장!\n",
      "\n"
     ]
    },
    {
     "name": "stderr",
     "output_type": "stream",
     "text": [
      "\r",
      " 88%|███████████████████████████████████████████████████████████████████████▎         | 88/100 [55:13<09:58, 49.91s/it]"
     ]
    },
    {
     "name": "stdout",
     "output_type": "stream",
     "text": [
      "> VIDEO TITLE: 끝내버렸습니다\n",
      "\n"
     ]
    },
    {
     "name": "stderr",
     "output_type": "stream",
     "text": [
      "\r",
      " 89%|████████████████████████████████████████████████████████████████████████         | 89/100 [55:42<07:59, 43.62s/it]"
     ]
    },
    {
     "name": "stdout",
     "output_type": "stream",
     "text": [
      "> VIDEO TITLE: 홍진호에게 2파켓이란...?\n",
      "\n"
     ]
    },
    {
     "name": "stderr",
     "output_type": "stream",
     "text": [
      "\r",
      " 90%|████████████████████████████████████████████████████████████████████████▉        | 90/100 [56:50<08:31, 51.12s/it]"
     ]
    },
    {
     "name": "stdout",
     "output_type": "stream",
     "text": [
      "> VIDEO TITLE: 850억 팟 맛있어? 마시쪙! ⑨⑨⑨⑨\n",
      "\n"
     ]
    },
    {
     "name": "stderr",
     "output_type": "stream",
     "text": [
      "\r",
      " 91%|█████████████████████████████████████████████████████████████████████████▋       | 91/100 [57:27<07:01, 46.84s/it]"
     ]
    },
    {
     "name": "stdout",
     "output_type": "stream",
     "text": [
      "> VIDEO TITLE: [한게임섯다]이것이 바로, 은평9 아귀_넌 나에게 목욕값을 줬어 #nhn #한게임 #코인규 #은평9아귀 #섯다 #한게임섯다\n",
      "\n"
     ]
    },
    {
     "name": "stderr",
     "output_type": "stream",
     "text": [
      "\r",
      " 92%|██████████████████████████████████████████████████████████████████████████▌      | 92/100 [58:07<05:59, 44.91s/it]"
     ]
    },
    {
     "name": "stdout",
     "output_type": "stream",
     "text": [
      "> VIDEO TITLE: 돈 받을 사람 줄을 서시오~\n",
      "\n"
     ]
    },
    {
     "name": "stderr",
     "output_type": "stream",
     "text": [
      "\r",
      " 93%|███████████████████████████████████████████████████████████████████████████▎     | 93/100 [58:35<04:37, 39.58s/it]"
     ]
    },
    {
     "name": "stdout",
     "output_type": "stream",
     "text": [
      "> VIDEO TITLE: [그깟포커:ep11] 안 들키게 뻥카 치는 법 #블러핑 #뻥카 #한게임포커 #한게임 #NHN #예나콩 #홍예나 #홀덤 #그깟포커\n",
      "\n"
     ]
    },
    {
     "name": "stderr",
     "output_type": "stream",
     "text": [
      "\r",
      " 94%|████████████████████████████████████████████████████████████████████████████▏    | 94/100 [59:09<03:48, 38.09s/it]"
     ]
    },
    {
     "name": "stdout",
     "output_type": "stream",
     "text": [
      "> VIDEO TITLE: (고)인규 형 표정이 왜 그래..? 한게임 세븐 포커로 맞붙는 두 인규의 치열한(?) 대결 [한게임 포커대전] 2화 #최인규 #고인규 #한게임포커\n",
      "\n"
     ]
    },
    {
     "name": "stderr",
     "output_type": "stream",
     "text": [
      "\r",
      " 95%|████████████████████████████████████████████████████████████████████████████▉    | 95/100 [59:46<03:08, 37.74s/it]"
     ]
    },
    {
     "name": "stdout",
     "output_type": "stream",
     "text": [
      "> VIDEO TITLE: 한게임20년 경력 아버지 VS 한게임 직원 2년차 딸래미\n",
      "\n"
     ]
    },
    {
     "name": "stderr",
     "output_type": "stream",
     "text": [
      "\r",
      " 96%|███████████████████████████████████████████████████████████████████████████▊   | 96/100 [1:00:16<02:21, 35.38s/it]"
     ]
    },
    {
     "name": "stdout",
     "output_type": "stream",
     "text": [
      "> VIDEO TITLE: 오징어게임 456억 안부러운 한게임 10억 방\n",
      "\n"
     ]
    },
    {
     "name": "stderr",
     "output_type": "stream",
     "text": [
      "\r",
      " 97%|████████████████████████████████████████████████████████████████████████████▋  | 97/100 [1:01:01<01:54, 38.30s/it]"
     ]
    },
    {
     "name": "stdout",
     "output_type": "stream",
     "text": [
      "> VIDEO TITLE: [외전] 3연속 플러쉬가 말이 ㄷ? [포커예능][한게임포커클래식][이스케이프 프롬 포커룸]\n",
      "\n"
     ]
    },
    {
     "name": "stderr",
     "output_type": "stream",
     "text": [
      "\r",
      " 98%|█████████████████████████████████████████████████████████████████████████████▍ | 98/100 [1:01:37<01:15, 37.51s/it]"
     ]
    },
    {
     "name": "stdout",
     "output_type": "stream",
     "text": [
      "> VIDEO TITLE: 우승자는 정해져 있고 넌 베팅만 하면 돼\n",
      "\n"
     ]
    },
    {
     "name": "stderr",
     "output_type": "stream",
     "text": [
      "\r",
      " 99%|██████████████████████████████████████████████████████████████████████████████▏| 99/100 [1:03:05<00:52, 52.75s/it]"
     ]
    },
    {
     "name": "stdout",
     "output_type": "stream",
     "text": [
      "> VIDEO TITLE: [가정의 달 특집] 한게임포커 몰아보기 5편\n",
      "\n"
     ]
    },
    {
     "name": "stderr",
     "output_type": "stream",
     "text": [
      "100%|██████████████████████████████████████████████████████████████████████████████| 100/100 [1:03:36<00:00, 38.17s/it]\n"
     ]
    }
   ],
   "source": [
    "idlst = list(df40.channel_id)\n",
    "namelst = list(df40.link)\n",
    "\n",
    "game_df = pd.DataFrame()\n",
    "for i in tqdm(range(len(idlst))):\n",
    "    gamename = namelst[i]\n",
    "    commentlst, new_title, date = scrape(\"https://www.youtube.com/watch?v=\" + idlst[i])\n",
    "    num = len(commentlst)\n",
    "    \n",
    "    #게임 이름과 비디오 제목, 비디오 날짜를 리스트 길이로 맞게\n",
    "    \n",
    "\n",
    "    new_df = pd.DataFrame({'GameName':[gamename]*num, 'VideoDate': [date]*num, 'VideoTitle':[new_title]*num, 'Comment': commentlst})\n",
    "    game_df = game_df.append(new_df)\n",
    "    \n",
    "    \n",
    "game_df.to_csv(\"youtube_su40.csv\")"
   ]
  },
  {
   "cell_type": "code",
   "execution_count": 7,
   "id": "22ae1641",
   "metadata": {},
   "outputs": [
    {
     "name": "stderr",
     "output_type": "stream",
     "text": [
      "\r",
      "  0%|                                                                                          | 0/100 [00:00<?, ?it/s]"
     ]
    },
    {
     "name": "stdout",
     "output_type": "stream",
     "text": [
      "> VIDEO TITLE: [한게임섯다]천하무적 38광땡을 가진 기분!!!하하하하하하하하\n",
      "\n"
     ]
    },
    {
     "name": "stderr",
     "output_type": "stream",
     "text": [
      "\r",
      "  1%|▊                                                                               | 1/100 [00:42<1:10:43, 42.87s/it]"
     ]
    },
    {
     "name": "stdout",
     "output_type": "stream",
     "text": [
      "> VIDEO TITLE: 정윤종 섯다를 찢다~ #한게임 #한게임섯다 #섯다 @정윤종\n",
      "\n"
     ]
    },
    {
     "name": "stderr",
     "output_type": "stream",
     "text": [
      "\r",
      "  2%|█▌                                                                              | 2/100 [01:30<1:14:31, 45.63s/it]"
     ]
    },
    {
     "name": "stdout",
     "output_type": "stream",
     "text": [
      "> VIDEO TITLE: 이게 바로 로우바둑이다!! #한게임포커 #한게임포커클래식 #로우바둑이 #전태규 #골프\n",
      "\n"
     ]
    },
    {
     "name": "stderr",
     "output_type": "stream",
     "text": [
      "\r",
      "  3%|██▍                                                                             | 3/100 [02:02<1:04:04, 39.64s/it]"
     ]
    },
    {
     "name": "stdout",
     "output_type": "stream",
     "text": [
      "> VIDEO TITLE: 기뉴다의 로우바둑이 도전기!! 과연 승자는? #한게임포커 #로우바둑이 #한게임포커클래식 #기뉴다\n",
      "\n"
     ]
    },
    {
     "name": "stderr",
     "output_type": "stream",
     "text": [
      "\r",
      "  4%|███▏                                                                            | 4/100 [02:37<1:00:19, 37.70s/it]"
     ]
    },
    {
     "name": "stdout",
     "output_type": "stream",
     "text": [
      "> VIDEO TITLE: 진짜 열심히 쳤는데 이미 진 판일 경우?\n",
      "\n"
     ]
    },
    {
     "name": "stderr",
     "output_type": "stream",
     "text": [
      "\r",
      "  5%|████                                                                              | 5/100 [03:13<58:52, 37.19s/it]"
     ]
    },
    {
     "name": "stdout",
     "output_type": "stream",
     "text": [
      "> VIDEO TITLE: [1_1화]BJ혜로로님 모시고 시즌1 시작합니다 [포커예능][한게임포커클래식][이스케이프 프롬 포커룸 시즌1]\n",
      "\n"
     ]
    },
    {
     "name": "stderr",
     "output_type": "stream",
     "text": [
      "\r",
      "  6%|████▉                                                                             | 6/100 [03:48<57:03, 36.42s/it]"
     ]
    },
    {
     "name": "stdout",
     "output_type": "stream",
     "text": [
      "> VIDEO TITLE: 🎇땡팟🎇이라고 들어봤니? [60초 3장섯다]\n",
      "\n"
     ]
    },
    {
     "name": "stderr",
     "output_type": "stream",
     "text": [
      "\r",
      "  7%|█████▋                                                                            | 7/100 [04:23<55:45, 35.97s/it]"
     ]
    },
    {
     "name": "stdout",
     "output_type": "stream",
     "text": [
      "> VIDEO TITLE: 꺼진 풀하우스도 다시보자\n",
      "\n"
     ]
    },
    {
     "name": "stderr",
     "output_type": "stream",
     "text": [
      "\r",
      "  8%|██████▌                                                                           | 8/100 [04:52<51:26, 33.55s/it]"
     ]
    },
    {
     "name": "stdout",
     "output_type": "stream",
     "text": [
      "> VIDEO TITLE: [한게임포커클래식] PC 한게임 포커, 모바일에서 그대로 즐겨라! #한게임 #한게임포커 #한게임포커클래식 #7포커 #바둑이\n",
      "\n"
     ]
    },
    {
     "name": "stderr",
     "output_type": "stream",
     "text": [
      "\r",
      "  9%|███████▍                                                                          | 9/100 [05:42<58:35, 38.63s/it]"
     ]
    },
    {
     "name": "stdout",
     "output_type": "stream",
     "text": [
      "> VIDEO TITLE: PC 한게임포커 그대로 모바일로 쌉가능! 한게임포커 클래식 #한게임포커 #한게임포커클래식 #원스토어 #고인규 #코인규 #한게임 #NHN\n",
      "\n"
     ]
    },
    {
     "name": "stderr",
     "output_type": "stream",
     "text": [
      "\r",
      " 10%|████████                                                                         | 10/100 [06:15<55:25, 36.95s/it]"
     ]
    },
    {
     "name": "stdout",
     "output_type": "stream",
     "text": [
      "> VIDEO TITLE: AAA급 플러쉬 파티 달리는 영상\n",
      "\n"
     ]
    },
    {
     "name": "stderr",
     "output_type": "stream",
     "text": [
      "\r",
      " 11%|████████▉                                                                        | 11/100 [06:52<54:46, 36.93s/it]"
     ]
    },
    {
     "name": "stdout",
     "output_type": "stream",
     "text": [
      "> VIDEO TITLE: 고인규와 한게임 라이브 스트리밍 티저 [한게임 포커]\n",
      "\n"
     ]
    },
    {
     "name": "stderr",
     "output_type": "stream",
     "text": [
      "\r",
      " 12%|█████████▋                                                                       | 12/100 [07:29<54:16, 37.01s/it]"
     ]
    },
    {
     "name": "stdout",
     "output_type": "stream",
     "text": [
      "> VIDEO TITLE: 인생한방 바로 오늘 밤 #아니 내일밤 #한게임섯다 #섯다 #한게임 #임선비\n",
      "\n"
     ]
    },
    {
     "name": "stderr",
     "output_type": "stream",
     "text": [
      "\r",
      " 13%|██████████▌                                                                      | 13/100 [08:03<52:19, 36.09s/it]"
     ]
    },
    {
     "name": "stdout",
     "output_type": "stream",
     "text": [
      "> VIDEO TITLE: 5,6수딧 스티플 되는 상상함ㅋㅋ루삥뽕\n",
      "\n"
     ]
    },
    {
     "name": "stderr",
     "output_type": "stream",
     "text": [
      "\r",
      " 14%|███████████▎                                                                     | 14/100 [08:41<52:39, 36.74s/it]"
     ]
    },
    {
     "name": "stdout",
     "output_type": "stream",
     "text": [
      "> VIDEO TITLE: 딱 한잔만 더 하자 콜? #한게임포커 #한게임\n",
      "\n"
     ]
    },
    {
     "name": "stderr",
     "output_type": "stream",
     "text": [
      "\r",
      " 15%|████████████▏                                                                    | 15/100 [09:19<52:36, 37.14s/it]"
     ]
    },
    {
     "name": "stdout",
     "output_type": "stream",
     "text": [
      "> VIDEO TITLE: 플러쉬 그렇게 하는 거 아닌데ㅋ\n",
      "\n"
     ]
    },
    {
     "name": "stderr",
     "output_type": "stream",
     "text": [
      "\r",
      " 16%|████████████▉                                                                    | 16/100 [10:03<54:56, 39.24s/it]"
     ]
    },
    {
     "name": "stdout",
     "output_type": "stream",
     "text": [
      "> VIDEO TITLE: 폭풍핸드 이어라인이 간다! ♠한게임포커 홀덤♠\n",
      "\n"
     ]
    },
    {
     "name": "stderr",
     "output_type": "stream",
     "text": [
      "\r",
      " 17%|█████████████▊                                                                   | 17/100 [10:32<49:43, 35.94s/it]"
     ]
    },
    {
     "name": "stdout",
     "output_type": "stream",
     "text": [
      "> VIDEO TITLE: 계속 콜만하면 엄마한테 혼난다\n",
      "\n"
     ]
    },
    {
     "name": "stderr",
     "output_type": "stream",
     "text": [
      "\r",
      " 18%|██████████████▌                                                                  | 18/100 [11:09<49:52, 36.49s/it]"
     ]
    },
    {
     "name": "stdout",
     "output_type": "stream",
     "text": [
      "> VIDEO TITLE: 이야 야근이다! EAT AND RUN 작전 시작! [고.야.방] 3화\n",
      "\n"
     ]
    },
    {
     "name": "stderr",
     "output_type": "stream",
     "text": [
      "\r",
      " 19%|███████████████▍                                                                 | 19/100 [11:45<48:50, 36.18s/it]"
     ]
    },
    {
     "name": "stdout",
     "output_type": "stream",
     "text": [
      "> VIDEO TITLE: 2주 준비하고 2분만에 끝나는 방송 [고.야.방] 1화\n",
      "\n"
     ]
    },
    {
     "name": "stderr",
     "output_type": "stream",
     "text": [
      "\r",
      " 20%|████████████████▏                                                                | 20/100 [12:20<47:46, 35.83s/it]"
     ]
    },
    {
     "name": "stdout",
     "output_type": "stream",
     "text": [
      "> VIDEO TITLE: [한게임 포커 20주년 기념 토너먼트] 2일차 7포커 #염보성 #에디린 #임선비 #김윤환 #도재욱 #정윤종 #난닝구 #홍진호 #한게임포커 #7포커\n",
      "\n"
     ]
    },
    {
     "name": "stderr",
     "output_type": "stream",
     "text": [
      "\r",
      " 21%|█████████████████                                                                | 21/100 [12:58<48:10, 36.58s/it]"
     ]
    },
    {
     "name": "stdout",
     "output_type": "stream",
     "text": [
      "> VIDEO TITLE: 역시 형이야! 구하러 왔구나!! 아니 나도.....\n",
      "\n"
     ]
    },
    {
     "name": "stderr",
     "output_type": "stream",
     "text": [
      "\r",
      " 22%|█████████████████▊                                                               | 22/100 [13:30<45:46, 35.22s/it]"
     ]
    },
    {
     "name": "stdout",
     "output_type": "stream",
     "text": [
      "> VIDEO TITLE: 토탈 4718억...? 정신 혼미해지는 한게임포커 10억방\n",
      "\n"
     ]
    },
    {
     "name": "stderr",
     "output_type": "stream",
     "text": [
      "\r",
      " 23%|██████████████████▋                                                              | 23/100 [14:10<47:08, 36.73s/it]"
     ]
    },
    {
     "name": "stdout",
     "output_type": "stream",
     "text": [
      "> VIDEO TITLE: [한게임섯다]어이 자네 내 밑에서 일해볼 생각 없나? #한게임 #섯다 #한게임섯다 #고인규 #아이언드래곤\n",
      "\n"
     ]
    },
    {
     "name": "stderr",
     "output_type": "stream",
     "text": [
      "\r",
      " 24%|███████████████████▍                                                             | 24/100 [14:49<47:24, 37.43s/it]"
     ]
    },
    {
     "name": "stdout",
     "output_type": "stream",
     "text": [
      "> VIDEO TITLE: 6원페어로 뻥치는 유저 검거했습니다\n",
      "\n"
     ]
    },
    {
     "name": "stderr",
     "output_type": "stream",
     "text": [
      "\r",
      " 25%|████████████████████▎                                                            | 25/100 [15:25<46:12, 36.97s/it]"
     ]
    },
    {
     "name": "stdout",
     "output_type": "stream",
     "text": [
      "> VIDEO TITLE: 맨시티 유니폼의 진실! 곽민선 아나운서 이제는 말할 수 있다! 모바일 한게임 포커와 함께하는 토크쇼![한게임 톡톡톡 EP.3]\n",
      "\n"
     ]
    },
    {
     "name": "stderr",
     "output_type": "stream",
     "text": [
      "\r",
      " 26%|█████████████████████                                                            | 26/100 [15:56<43:23, 35.19s/it]"
     ]
    },
    {
     "name": "stdout",
     "output_type": "stream",
     "text": [
      "> VIDEO TITLE: 한게임을 찾아온 국내 포커 채널 파워 1등 유튜버(?) OOO, 근황 인터뷰부터 홀덤 대결까지! [한게임 포커대전] 1화\n",
      "\n"
     ]
    },
    {
     "name": "stderr",
     "output_type": "stream",
     "text": [
      "\r",
      " 27%|█████████████████████▊                                                           | 27/100 [16:31<42:33, 34.98s/it]"
     ]
    },
    {
     "name": "stdout",
     "output_type": "stream",
     "text": [
      "> VIDEO TITLE: 677억 팟 모아놓고 올 낫씽 실화냐?! 레전드 ANTE 10억방!\n",
      "\n"
     ]
    },
    {
     "name": "stderr",
     "output_type": "stream",
     "text": [
      "\r",
      " 28%|██████████████████████▋                                                          | 28/100 [17:07<42:15, 35.22s/it]"
     ]
    },
    {
     "name": "stdout",
     "output_type": "stream",
     "text": [
      "> VIDEO TITLE: [이벤트] 댓글만 달아도 머니 칩이 쏟아진다? 한게임포커 역대급 이벤트!\n",
      "\n"
     ]
    },
    {
     "name": "stderr",
     "output_type": "stream",
     "text": [
      "\r",
      " 29%|██████████████████████▉                                                        | 29/100 [20:08<1:33:36, 79.10s/it]"
     ]
    },
    {
     "name": "stdout",
     "output_type": "stream",
     "text": [
      "> VIDEO TITLE: [그깟포커:ep2]홀덤에서 자리? 그것이 뭣이 중헌디? #홀덤 #한게임포커 #한게임 #NHN #예나콩 #홍예나\n",
      "\n"
     ]
    },
    {
     "name": "stderr",
     "output_type": "stream",
     "text": [
      "\r",
      " 30%|███████████████████████▋                                                       | 30/100 [20:45<1:17:38, 66.55s/it]"
     ]
    },
    {
     "name": "stdout",
     "output_type": "stream",
     "text": [
      "> VIDEO TITLE: \n",
      "\n"
     ]
    },
    {
     "name": "stderr",
     "output_type": "stream",
     "text": [
      "\r",
      " 31%|████████████████████████▍                                                      | 31/100 [21:28<1:08:15, 59.36s/it]"
     ]
    },
    {
     "name": "stdout",
     "output_type": "stream",
     "text": [
      "> VIDEO TITLE: 콜라 김이 빠지기 전에 널 퇴근시킨다 (feat.머현이형) [고.야.방] 5화\n",
      "\n"
     ]
    },
    {
     "name": "stderr",
     "output_type": "stream",
     "text": [
      "\r",
      " 32%|█████████████████████████▉                                                       | 32/100 [22:05<59:45, 52.73s/it]"
     ]
    },
    {
     "name": "stdout",
     "output_type": "stream",
     "text": [
      "> VIDEO TITLE: [한게임섯다]아귀를 만난 정마담 #한게임 #섯다 #한게임섯다 #고인규 #정마담\n",
      "\n"
     ]
    },
    {
     "name": "stderr",
     "output_type": "stream",
     "text": [
      "\r",
      " 33%|██████████████████████████▋                                                      | 33/100 [22:44<54:21, 48.68s/it]"
     ]
    },
    {
     "name": "stdout",
     "output_type": "stream",
     "text": [
      "> VIDEO TITLE: 김수현 아나운서의 선택은? 성캐냐! 효짱이냐! 모바일 한게임 포커와 함께하는 토크쇼![한게임 톡톡톡 EP.2]\n",
      "\n"
     ]
    },
    {
     "name": "stderr",
     "output_type": "stream",
     "text": [
      "\r",
      " 34%|███████████████████████████▌                                                     | 34/100 [23:24<50:28, 45.89s/it]"
     ]
    },
    {
     "name": "stdout",
     "output_type": "stream",
     "text": [
      "> VIDEO TITLE: 한게임 10억 방에서 한탕하고 인생역전 갑니다!\n",
      "\n"
     ]
    },
    {
     "name": "stderr",
     "output_type": "stream",
     "text": [
      "\r",
      " 35%|████████████████████████████▎                                                    | 35/100 [24:02<47:04, 43.45s/it]"
     ]
    },
    {
     "name": "stdout",
     "output_type": "stream",
     "text": [
      "> VIDEO TITLE: 도재욱우승!!!!! #한게임포커 #한게임포커클래식 #한게임 #도재욱 #괴수 #도멘 #김윤환 #홍진호\n",
      "\n"
     ]
    },
    {
     "name": "stderr",
     "output_type": "stream",
     "text": [
      "\r",
      " 36%|█████████████████████████████▏                                                   | 36/100 [24:32<42:17, 39.65s/it]"
     ]
    },
    {
     "name": "stdout",
     "output_type": "stream",
     "text": [
      "> VIDEO TITLE: [설 특집] 한게임포커 몰아보기 3편\n",
      "\n"
     ]
    },
    {
     "name": "stderr",
     "output_type": "stream",
     "text": [
      "\r",
      " 37%|█████████████████████████████▉                                                   | 37/100 [25:08<40:27, 38.53s/it]"
     ]
    },
    {
     "name": "stdout",
     "output_type": "stream",
     "text": [
      "> VIDEO TITLE: 폭풍해설 홍진호가 간닷!\n",
      "\n"
     ]
    },
    {
     "name": "stderr",
     "output_type": "stream",
     "text": [
      "\r",
      " 38%|██████████████████████████████                                                 | 38/100 [27:08<1:04:53, 62.81s/it]"
     ]
    },
    {
     "name": "stdout",
     "output_type": "stream",
     "text": [
      "> VIDEO TITLE: 일삼광땡이!!! 이게 바로 김윤환의 실력!!! #김윤환 #한게임 #한게임섯다 @김윤환TV [AmTUBE]\n",
      "\n"
     ]
    },
    {
     "name": "stderr",
     "output_type": "stream",
     "text": [
      "\r",
      " 39%|███████████████████████████████▌                                                 | 39/100 [27:41<54:55, 54.02s/it]"
     ]
    },
    {
     "name": "stdout",
     "output_type": "stream",
     "text": [
      "> VIDEO TITLE: 사탄도 울고 갈 사악한 베팅\n",
      "\n"
     ]
    },
    {
     "name": "stderr",
     "output_type": "stream",
     "text": [
      "\r",
      " 40%|████████████████████████████████▍                                                | 40/100 [28:04<44:30, 44.51s/it]"
     ]
    },
    {
     "name": "stdout",
     "output_type": "stream",
     "text": [
      "> VIDEO TITLE: 소개팅을 나갔는데 금발의 미남 두두등장 #한게임 #한게임포커 #킹카\n",
      "\n"
     ]
    },
    {
     "name": "stderr",
     "output_type": "stream",
     "text": [
      "\r",
      " 41%|█████████████████████████████████▏                                               | 41/100 [28:38<40:48, 41.50s/it]"
     ]
    },
    {
     "name": "stdout",
     "output_type": "stream",
     "text": [
      "> VIDEO TITLE: 1800억 팟을 제보 받았습니다..\n",
      "\n"
     ]
    },
    {
     "name": "stderr",
     "output_type": "stream",
     "text": [
      "\r",
      " 42%|██████████████████████████████████                                               | 42/100 [29:20<40:14, 41.63s/it]"
     ]
    },
    {
     "name": "stdout",
     "output_type": "stream",
     "text": [
      "> VIDEO TITLE: [ENG SUB] 한게임포커 ep 3: 홍진호가 임요환보다 월등하게 우월한(?) 바로 그것! #임요환 #홍진호 #콩콩데이 #한게임포커 #임진록 #콩콩절 #BOXER #YELLOW\n",
      "\n"
     ]
    },
    {
     "name": "stderr",
     "output_type": "stream",
     "text": [
      "\r",
      " 43%|██████████████████████████████████▊                                              | 43/100 [29:57<38:12, 40.22s/it]"
     ]
    },
    {
     "name": "stdout",
     "output_type": "stream",
     "text": [
      "> VIDEO TITLE: [한게임포커광고v2]그 박성호님 맞스므니다! #한게임포커 #한게임 #박성호 #NHN\n",
      "\n"
     ]
    },
    {
     "name": "stderr",
     "output_type": "stream",
     "text": [
      "\r",
      " 44%|███████████████████████████████████▋                                             | 44/100 [30:34<36:43, 39.34s/it]"
     ]
    },
    {
     "name": "stdout",
     "output_type": "stream",
     "text": [
      "> VIDEO TITLE: 이걸 받는다고? [60초 나혼자섯다]\n",
      "\n"
     ]
    },
    {
     "name": "stderr",
     "output_type": "stream",
     "text": [
      "\r",
      " 45%|████████████████████████████████████▍                                            | 45/100 [31:13<35:48, 39.06s/it]"
     ]
    },
    {
     "name": "stdout",
     "output_type": "stream",
     "text": [
      "> VIDEO TITLE: 22시 22분에 다이 22시 22분에 다이 #홍진호 #홍진호 #한게임포커 #한게임 #한게임7포커 #스티플\n",
      "\n"
     ]
    },
    {
     "name": "stderr",
     "output_type": "stream",
     "text": [
      "\r",
      " 46%|█████████████████████████████████████▎                                           | 46/100 [32:04<38:26, 42.71s/it]"
     ]
    },
    {
     "name": "stdout",
     "output_type": "stream",
     "text": [
      "> VIDEO TITLE: 당신은 이 판을 보고 토할지도 모릅니다\n",
      "\n"
     ]
    },
    {
     "name": "stderr",
     "output_type": "stream",
     "text": [
      "\r",
      " 47%|██████████████████████████████████████                                           | 47/100 [32:41<36:16, 41.07s/it]"
     ]
    },
    {
     "name": "stdout",
     "output_type": "stream",
     "text": [
      "> VIDEO TITLE: 포커실력 대상승!!! [예나콩이 간다 2회] #한게임포커 #한게임 #NHN #예나콩 #변형태 #포커 #7포커\n",
      "\n"
     ]
    },
    {
     "name": "stderr",
     "output_type": "stream",
     "text": [
      "\r",
      " 48%|██████████████████████████████████████▉                                          | 48/100 [33:59<45:03, 51.99s/it]"
     ]
    },
    {
     "name": "stdout",
     "output_type": "stream",
     "text": [
      "> VIDEO TITLE: 암행어사출두요!! 극한의 심리전!![행운의섯다 ep.5]\n",
      "\n"
     ]
    },
    {
     "name": "stderr",
     "output_type": "stream",
     "text": [
      "\r",
      " 49%|███████████████████████████████████████▋                                         | 49/100 [34:32<39:26, 46.40s/it]"
     ]
    },
    {
     "name": "stdout",
     "output_type": "stream",
     "text": [
      "> VIDEO TITLE: 한게임 7포커 최하층 방 유저들의 생존 게임이 시작된다...\n",
      "\n"
     ]
    },
    {
     "name": "stderr",
     "output_type": "stream",
     "text": [
      "\r",
      " 50%|████████████████████████████████████████▌                                        | 50/100 [35:05<35:14, 42.29s/it]"
     ]
    },
    {
     "name": "stdout",
     "output_type": "stream",
     "text": [
      "> VIDEO TITLE: 한게임포커 리마스터의 첫 번째 도약 하이로우! 한게임포커만의 고퀄리티 고품격 공간에서 즐겨보세요~\n",
      "\n"
     ]
    },
    {
     "name": "stderr",
     "output_type": "stream",
     "text": [
      "\r",
      " 51%|█████████████████████████████████████████▎                                       | 51/100 [35:39<32:37, 39.94s/it]"
     ]
    },
    {
     "name": "stdout",
     "output_type": "stream",
     "text": [
      "> VIDEO TITLE: \n",
      "\n"
     ]
    },
    {
     "name": "stderr",
     "output_type": "stream",
     "text": [
      "\r",
      " 52%|██████████████████████████████████████████                                       | 52/100 [36:19<32:02, 40.05s/it]"
     ]
    },
    {
     "name": "stdout",
     "output_type": "stream",
     "text": [
      "> VIDEO TITLE: [티저영상] 12월 25일, 선물처럼 그가 옵니다\n",
      "\n"
     ]
    },
    {
     "name": "stderr",
     "output_type": "stream",
     "text": [
      "\r",
      " 53%|██████████████████████████████████████████▉                                      | 53/100 [37:11<33:58, 43.37s/it]"
     ]
    },
    {
     "name": "stdout",
     "output_type": "stream",
     "text": [
      "> VIDEO TITLE: [한게임섯다]이것이 바로, 은평9 아귀_이것이 섯다지! #nhn #한게임 #코인규 #은평9아귀 #섯다 #한게임섯다\n",
      "\n"
     ]
    },
    {
     "name": "stderr",
     "output_type": "stream",
     "text": [
      "\r",
      " 54%|███████████████████████████████████████████▋                                     | 54/100 [37:48<31:56, 41.67s/it]"
     ]
    },
    {
     "name": "stdout",
     "output_type": "stream",
     "text": [
      "> VIDEO TITLE: [추석특집] 한게임포커 몰아보기 8편\n",
      "\n"
     ]
    },
    {
     "name": "stderr",
     "output_type": "stream",
     "text": [
      "\r",
      " 55%|████████████████████████████████████████████▌                                    | 55/100 [38:17<28:27, 37.95s/it]"
     ]
    },
    {
     "name": "stdout",
     "output_type": "stream",
     "text": [
      "> VIDEO TITLE: 2020년 첫번째 임진록! 한게임포커 특별생방송 #임요환 #홍진호 #홍진호 #한게임포커 #콩콩절 #레전드매치 #스타크래프트 #임진록 #포커 #콩데이 #콩까지마\n",
      "\n"
     ]
    },
    {
     "name": "stderr",
     "output_type": "stream",
     "text": [
      "\r",
      " 56%|█████████████████████████████████████████████▎                                   | 56/100 [38:57<28:06, 38.34s/it]"
     ]
    },
    {
     "name": "stdout",
     "output_type": "stream",
     "text": [
      "> VIDEO TITLE: 섯다로 당첨될 때까지 로또번호 추천해드립니다![행운의섯다 ep.3]\n",
      "\n"
     ]
    },
    {
     "name": "stderr",
     "output_type": "stream",
     "text": [
      "\r",
      " 57%|██████████████████████████████████████████████▏                                  | 57/100 [39:26<25:34, 35.69s/it]"
     ]
    },
    {
     "name": "stdout",
     "output_type": "stream",
     "text": [
      "> VIDEO TITLE: 운수 좋은 홀덤판\n",
      "\n"
     ]
    },
    {
     "name": "stderr",
     "output_type": "stream",
     "text": [
      "\r",
      " 58%|██████████████████████████████████████████████▉                                  | 58/100 [39:57<23:59, 34.27s/it]"
     ]
    },
    {
     "name": "stdout",
     "output_type": "stream",
     "text": [
      "> VIDEO TITLE: 한게임포커 20주년 기념 프로모션 영상 #한게임 #한게임포커 #20주년\n",
      "\n"
     ]
    },
    {
     "name": "stderr",
     "output_type": "stream",
     "text": [
      "\r",
      " 59%|███████████████████████████████████████████████▊                                 | 59/100 [40:27<22:27, 32.87s/it]"
     ]
    },
    {
     "name": "stdout",
     "output_type": "stream",
     "text": [
      "> VIDEO TITLE: 역대급 직진콜 835억짜리 판\n",
      "\n"
     ]
    },
    {
     "name": "stderr",
     "output_type": "stream",
     "text": [
      "\r",
      " 60%|████████████████████████████████████████████████▌                                | 60/100 [41:16<25:16, 37.92s/it]"
     ]
    },
    {
     "name": "stdout",
     "output_type": "stream",
     "text": [
      "> VIDEO TITLE: 빼앗긴 풀하우스에도 봄은 오는가\n",
      "\n"
     ]
    },
    {
     "name": "stderr",
     "output_type": "stream",
     "text": [
      "\r",
      " 61%|█████████████████████████████████████████████████▍                               | 61/100 [41:45<22:43, 34.95s/it]"
     ]
    },
    {
     "name": "stdout",
     "output_type": "stream",
     "text": [
      "> VIDEO TITLE: [3_2화]벌칙 수준 ㅋㅋ[포커예능][한게임포커클래식][이스케이프 프롬 포커룸 시즌1]\n",
      "\n"
     ]
    },
    {
     "name": "stderr",
     "output_type": "stream",
     "text": [
      "\r",
      " 62%|██████████████████████████████████████████████████▏                              | 62/100 [42:15<21:13, 33.53s/it]"
     ]
    },
    {
     "name": "stdout",
     "output_type": "stream",
     "text": [
      "> VIDEO TITLE: 이건 못 죽지! 올인 파티 쏴리 질러!!!! 무야호~\n",
      "\n"
     ]
    },
    {
     "name": "stderr",
     "output_type": "stream",
     "text": [
      "\r",
      " 63%|███████████████████████████████████████████████████                              | 63/100 [42:44<19:54, 32.28s/it]"
     ]
    },
    {
     "name": "stdout",
     "output_type": "stream",
     "text": [
      "> VIDEO TITLE: 채민준 캐스터, e스포츠 캐스터에서 전직을 꿈꾸다?! [고인규의 콜링] 채민준 캐스터 편 #모바일한게임포커 #채민준 #고인규 #한게임포커\n",
      "\n"
     ]
    },
    {
     "name": "stderr",
     "output_type": "stream",
     "text": [
      "\r",
      " 64%|███████████████████████████████████████████████████▊                             | 64/100 [43:14<18:59, 31.65s/it]"
     ]
    },
    {
     "name": "stdout",
     "output_type": "stream",
     "text": [
      "> VIDEO TITLE: 홍진호 = 세컨드 [한게임포커20주년 기념 토너먼트] #홍진호 #홍진호 #한게임 #한게임포커 #로우바둑이 #기뉴다 #최군 #난닝구 #전태규 #nhn #나는푸르\n",
      "\n"
     ]
    },
    {
     "name": "stderr",
     "output_type": "stream",
     "text": [
      "\r",
      " 65%|████████████████████████████████████████████████████▋                            | 65/100 [43:49<18:57, 32.50s/it]"
     ]
    },
    {
     "name": "stdout",
     "output_type": "stream",
     "text": [
      "> VIDEO TITLE: 골프 내려온다. [코인규간다 1회] #코인규 #홍예나 #로우바둑이 #NHN #한게임 #한게임포커\n",
      "\n"
     ]
    },
    {
     "name": "stderr",
     "output_type": "stream",
     "text": [
      "\r",
      " 66%|█████████████████████████████████████████████████████▍                           | 66/100 [44:33<20:24, 36.02s/it]"
     ]
    },
    {
     "name": "stdout",
     "output_type": "stream",
     "text": [
      "> VIDEO TITLE: [한게임섯다]이영호 찐텐 공개 #이영호 #한게임 #섯다 #한게임섯다\n",
      "\n"
     ]
    },
    {
     "name": "stderr",
     "output_type": "stream",
     "text": [
      "\r",
      " 67%|██████████████████████████████████████████████████████▎                          | 67/100 [45:02<18:35, 33.80s/it]"
     ]
    },
    {
     "name": "stdout",
     "output_type": "stream",
     "text": [
      "> VIDEO TITLE: 일대일 700억 팟 레전드 승부!\n",
      "\n"
     ]
    },
    {
     "name": "stderr",
     "output_type": "stream",
     "text": [
      "\r",
      " 68%|███████████████████████████████████████████████████████                          | 68/100 [45:37<18:14, 34.20s/it]"
     ]
    },
    {
     "name": "stdout",
     "output_type": "stream",
     "text": [
      "> VIDEO TITLE: 돈 복사 하려다 삭제 당했습니다\n",
      "\n"
     ]
    },
    {
     "name": "stderr",
     "output_type": "stream",
     "text": [
      "\r",
      " 69%|███████████████████████████████████████████████████████▉                         | 69/100 [46:11<17:40, 34.20s/it]"
     ]
    },
    {
     "name": "stdout",
     "output_type": "stream",
     "text": [
      "> VIDEO TITLE: [한게임 포커] 포커무한도전 #포무도 #고인규 #홍예나 #유대현 #머현이형 #한게임 #한게임포커 #한게임로우바둑이 #nhn\n",
      "\n"
     ]
    },
    {
     "name": "stderr",
     "output_type": "stream",
     "text": [
      "\r",
      " 70%|████████████████████████████████████████████████████████▋                        | 70/100 [46:47<17:18, 34.62s/it]"
     ]
    },
    {
     "name": "stdout",
     "output_type": "stream",
     "text": [
      "> VIDEO TITLE: [한게임포커] 작정하고 잡았다. 2020년 첫번째 임진록! 광고 촬영 현장스케치! 43s #임요환 #홍진호 #임진록 #한게임포커 #홀덤\n",
      "\n"
     ]
    },
    {
     "name": "stderr",
     "output_type": "stream",
     "text": [
      "\r",
      " 71%|█████████████████████████████████████████████████████████▌                       | 71/100 [47:25<17:21, 35.92s/it]"
     ]
    },
    {
     "name": "stdout",
     "output_type": "stream",
     "text": [
      "> VIDEO TITLE: 맥스베팅 소환하는 영상\n",
      "\n"
     ]
    },
    {
     "name": "stderr",
     "output_type": "stream",
     "text": [
      "\r",
      " 72%|██████████████████████████████████████████████████████████▎                      | 72/100 [47:55<15:49, 33.89s/it]"
     ]
    },
    {
     "name": "stdout",
     "output_type": "stream",
     "text": [
      "> VIDEO TITLE: 그 풀하우스... 선정이 딸이에요\n",
      "\n"
     ]
    },
    {
     "name": "stderr",
     "output_type": "stream",
     "text": [
      "\r",
      " 73%|███████████████████████████████████████████████████████████▏                     | 73/100 [48:35<16:05, 35.77s/it]"
     ]
    },
    {
     "name": "stdout",
     "output_type": "stream",
     "text": [
      "> VIDEO TITLE: 간 보다 손해 본 판 [60초 나혼자섯다]\n",
      "\n"
     ]
    },
    {
     "name": "stderr",
     "output_type": "stream",
     "text": [
      "\r",
      " 74%|███████████████████████████████████████████████████████████▉                     | 74/100 [49:09<15:19, 35.35s/it]"
     ]
    },
    {
     "name": "stdout",
     "output_type": "stream",
     "text": [
      "> VIDEO TITLE: 스트레이트도 7포커에서는 급이 있다\n",
      "\n"
     ]
    },
    {
     "name": "stderr",
     "output_type": "stream",
     "text": [
      "\r",
      " 75%|████████████████████████████████████████████████████████████▊                    | 75/100 [49:46<14:53, 35.75s/it]"
     ]
    },
    {
     "name": "stdout",
     "output_type": "stream",
     "text": [
      "> VIDEO TITLE: [그깟포커:ep1] 핸드에 수딧이 나왔다? #수딧이뭔데? #홍예나 #그깟포커 #한게임 #한게임포커 #NHN\n",
      "\n"
     ]
    },
    {
     "name": "stderr",
     "output_type": "stream",
     "text": [
      "\r",
      " 76%|█████████████████████████████████████████████████████████████▌                   | 76/100 [50:24<14:37, 36.57s/it]"
     ]
    },
    {
     "name": "stdout",
     "output_type": "stream",
     "text": [
      "> VIDEO TITLE: [포.무.도 1-1화] 세계 최초 웹보드 예능이 떴다!\n",
      "\n"
     ]
    },
    {
     "name": "stderr",
     "output_type": "stream",
     "text": [
      "\r",
      " 77%|██████████████████████████████████████████████████████████████▎                  | 77/100 [50:57<13:31, 35.27s/it]"
     ]
    },
    {
     "name": "stdout",
     "output_type": "stream",
     "text": [
      "> VIDEO TITLE: 저 고인규, '그 게임'에 인생 겁니다 [고.야.방] 2화\n",
      "\n"
     ]
    },
    {
     "name": "stderr",
     "output_type": "stream",
     "text": [
      "\r",
      " 78%|███████████████████████████████████████████████████████████████▏                 | 78/100 [51:30<12:42, 34.67s/it]"
     ]
    },
    {
     "name": "stdout",
     "output_type": "stream",
     "text": [
      "> VIDEO TITLE: [그깟포커:ep4] 넛을 부르는 영상! #홀덤 #한게임포커 #한게임 #NHN #예나콩 #홍예나 #넛 #넛플러쉬\n",
      "\n"
     ]
    },
    {
     "name": "stderr",
     "output_type": "stream",
     "text": [
      "\r",
      " 79%|███████████████████████████████████████████████████████████████▉                 | 79/100 [52:05<12:08, 34.71s/it]"
     ]
    },
    {
     "name": "stdout",
     "output_type": "stream",
     "text": [
      "> VIDEO TITLE: 한게임 홀덤 헥토파스칼킥급 쇼다운 매치\n",
      "\n"
     ]
    },
    {
     "name": "stderr",
     "output_type": "stream",
     "text": [
      "\r",
      " 80%|████████████████████████████████████████████████████████████████▊                | 80/100 [52:53<12:56, 38.84s/it]"
     ]
    },
    {
     "name": "stdout",
     "output_type": "stream",
     "text": [
      "> VIDEO TITLE: 프로게이머 출신 BJ의 연기(x) 7포커(o) 실력은 과연?! [한게임 포커 20주년 기념 토너먼트 리뷰] 2화 7포커 편\n",
      "\n"
     ]
    },
    {
     "name": "stderr",
     "output_type": "stream",
     "text": [
      "\r",
      " 81%|█████████████████████████████████████████████████████████████████▌               | 81/100 [53:22<11:23, 35.98s/it]"
     ]
    },
    {
     "name": "stdout",
     "output_type": "stream",
     "text": [
      "> VIDEO TITLE: [한게임 포커] 유대현의 포커무한도전5화 #포무도 #고인규 #홍예나 #유대현 #머현이형 #한게임 #한게임포커 #한게임로우바둑이 #nhn\n",
      "\n"
     ]
    },
    {
     "name": "stderr",
     "output_type": "stream",
     "text": [
      "\r",
      " 82%|██████████████████████████████████████████████████████████████████▍              | 82/100 [53:59<10:52, 36.26s/it]"
     ]
    },
    {
     "name": "stdout",
     "output_type": "stream",
     "text": [
      "> VIDEO TITLE: 이런 베팅하는 유저 진짜 조심하세요\n",
      "\n"
     ]
    },
    {
     "name": "stderr",
     "output_type": "stream",
     "text": [
      "\r",
      " 83%|███████████████████████████████████████████████████████████████████▏             | 83/100 [54:30<09:46, 34.47s/it]"
     ]
    },
    {
     "name": "stdout",
     "output_type": "stream",
     "text": [
      "> VIDEO TITLE: 포커에는 바둑이가 있다면 섯다에는 이것이 있다👀 [60초 섯둑이]\n",
      "\n"
     ]
    },
    {
     "name": "stderr",
     "output_type": "stream",
     "text": [
      "\r",
      " 84%|████████████████████████████████████████████████████████████████████             | 84/100 [55:06<09:21, 35.12s/it]"
     ]
    },
    {
     "name": "stdout",
     "output_type": "stream",
     "text": [
      "> VIDEO TITLE: 어디서 일삼광땡에게 까불어! 족보 차이를 보여주마![행운의섯다 ep.9]\n",
      "\n"
     ]
    },
    {
     "name": "stderr",
     "output_type": "stream",
     "text": [
      "\r",
      " 85%|████████████████████████████████████████████████████████████████████▊            | 85/100 [55:40<08:40, 34.72s/it]"
     ]
    },
    {
     "name": "stdout",
     "output_type": "stream",
     "text": [
      "> VIDEO TITLE: [설 특집] 한게임포커 몰아보기 4편\n",
      "\n"
     ]
    },
    {
     "name": "stderr",
     "output_type": "stream",
     "text": [
      "\r",
      " 86%|█████████████████████████████████████████████████████████████████████▋           | 86/100 [56:14<08:04, 34.61s/it]"
     ]
    },
    {
     "name": "stdout",
     "output_type": "stream",
     "text": [
      "> VIDEO TITLE: 재경기가 두번이나 뜬다고? [60초 2장섯다]\n",
      "\n"
     ]
    },
    {
     "name": "stderr",
     "output_type": "stream",
     "text": [
      "\r",
      " 87%|██████████████████████████████████████████████████████████████████████▍          | 87/100 [57:00<08:12, 37.88s/it]"
     ]
    },
    {
     "name": "stdout",
     "output_type": "stream",
     "text": [
      "> VIDEO TITLE: 끝날 때까지 봐야 승패를 알 수 있는 쫄깃한 3장 섯다! [60초 3장 섯다]\n",
      "\n"
     ]
    },
    {
     "name": "stderr",
     "output_type": "stream",
     "text": [
      "\r",
      " 88%|███████████████████████████████████████████████████████████████████████▎         | 88/100 [57:29<07:03, 35.32s/it]"
     ]
    },
    {
     "name": "stdout",
     "output_type": "stream",
     "text": [
      "> VIDEO TITLE: 포커 실력 상승을 위한 지옥의 타바타 수련[예나콩이 간다 4회] #한게임포커 #한게임포커클래식 #한게임 #NHN #예나콩 #포커 #7포커 #타바타\n",
      "\n"
     ]
    },
    {
     "name": "stderr",
     "output_type": "stream",
     "text": [
      "\r",
      " 89%|████████████████████████████████████████████████████████████████████████         | 89/100 [58:04<06:25, 35.00s/it]"
     ]
    },
    {
     "name": "stdout",
     "output_type": "stream",
     "text": [
      "> VIDEO TITLE: 7포커는 슬픈 드라마야...\n",
      "\n"
     ]
    },
    {
     "name": "stderr",
     "output_type": "stream",
     "text": [
      "\r",
      " 90%|████████████████████████████████████████████████████████████████████████▉        | 90/100 [58:32<05:30, 33.08s/it]"
     ]
    },
    {
     "name": "stdout",
     "output_type": "stream",
     "text": [
      "> VIDEO TITLE: coin규의 실패한 포커 판독기 #코인규#coin규#한게임포커#한게임#홀덤#모바일#nhn\n",
      "\n"
     ]
    },
    {
     "name": "stderr",
     "output_type": "stream",
     "text": [
      "\r",
      " 91%|█████████████████████████████████████████████████████████████████████████▋       | 91/100 [59:10<05:11, 34.63s/it]"
     ]
    },
    {
     "name": "stdout",
     "output_type": "stream",
     "text": [
      "> VIDEO TITLE: [ENG SUB] 한게임포커 ep 5 포커 3연뱅(?) 가즈아~! #한게임포커 #한게임 #임요환 #홍진호홍진호 #임진록 #BOXER #YELLOW\n",
      "\n"
     ]
    },
    {
     "name": "stderr",
     "output_type": "stream",
     "text": [
      "\r",
      " 92%|██████████████████████████████████████████████████████████████████████████▌      | 92/100 [59:46<04:38, 34.86s/it]"
     ]
    },
    {
     "name": "stdout",
     "output_type": "stream",
     "text": [
      "> VIDEO TITLE: 방송 망했습니다 [고.야.방] 4화\n",
      "\n"
     ]
    },
    {
     "name": "stderr",
     "output_type": "stream",
     "text": [
      " 93%|█████████████████████████████████████████████████████████████████████████▍     | 93/100 [1:00:36<04:33, 39.10s/it]"
     ]
    },
    {
     "name": "stdout",
     "output_type": "stream",
     "text": [
      "Error: Double check selector OR element may not yet be on the screen at the time of the find operation\n"
     ]
    },
    {
     "name": "stderr",
     "output_type": "stream",
     "text": [
      "\n"
     ]
    },
    {
     "ename": "UnboundLocalError",
     "evalue": "local variable 'comment_section' referenced before assignment",
     "output_type": "error",
     "traceback": [
      "\u001b[1;31m---------------------------------------------------------------------------\u001b[0m",
      "\u001b[1;31mUnboundLocalError\u001b[0m                         Traceback (most recent call last)",
      "\u001b[1;32m<ipython-input-7-3bcb9162d81b>\u001b[0m in \u001b[0;36m<module>\u001b[1;34m\u001b[0m\n\u001b[0;32m      5\u001b[0m \u001b[1;32mfor\u001b[0m \u001b[0mi\u001b[0m \u001b[1;32min\u001b[0m \u001b[0mtqdm\u001b[0m\u001b[1;33m(\u001b[0m\u001b[0mrange\u001b[0m\u001b[1;33m(\u001b[0m\u001b[0mlen\u001b[0m\u001b[1;33m(\u001b[0m\u001b[0midlst\u001b[0m\u001b[1;33m)\u001b[0m\u001b[1;33m)\u001b[0m\u001b[1;33m)\u001b[0m\u001b[1;33m:\u001b[0m\u001b[1;33m\u001b[0m\u001b[1;33m\u001b[0m\u001b[0m\n\u001b[0;32m      6\u001b[0m     \u001b[0mgamename\u001b[0m \u001b[1;33m=\u001b[0m \u001b[0mnamelst\u001b[0m\u001b[1;33m[\u001b[0m\u001b[0mi\u001b[0m\u001b[1;33m]\u001b[0m\u001b[1;33m\u001b[0m\u001b[1;33m\u001b[0m\u001b[0m\n\u001b[1;32m----> 7\u001b[1;33m     \u001b[0mcommentlst\u001b[0m\u001b[1;33m,\u001b[0m \u001b[0mnew_title\u001b[0m\u001b[1;33m,\u001b[0m \u001b[0mdate\u001b[0m \u001b[1;33m=\u001b[0m \u001b[0mscrape\u001b[0m\u001b[1;33m(\u001b[0m\u001b[1;34m\"https://www.youtube.com/watch?v=\"\u001b[0m \u001b[1;33m+\u001b[0m \u001b[0midlst\u001b[0m\u001b[1;33m[\u001b[0m\u001b[0mi\u001b[0m\u001b[1;33m]\u001b[0m\u001b[1;33m)\u001b[0m\u001b[1;33m\u001b[0m\u001b[1;33m\u001b[0m\u001b[0m\n\u001b[0m\u001b[0;32m      8\u001b[0m     \u001b[0mnum\u001b[0m \u001b[1;33m=\u001b[0m \u001b[0mlen\u001b[0m\u001b[1;33m(\u001b[0m\u001b[0mcommentlst\u001b[0m\u001b[1;33m)\u001b[0m\u001b[1;33m\u001b[0m\u001b[1;33m\u001b[0m\u001b[0m\n\u001b[0;32m      9\u001b[0m \u001b[1;33m\u001b[0m\u001b[0m\n",
      "\u001b[1;32m<ipython-input-2-83514fae3421>\u001b[0m in \u001b[0;36mscrape\u001b[1;34m(url)\u001b[0m\n\u001b[0;32m     20\u001b[0m     \u001b[1;31m# Scroll into view the comment section, then allow some time\u001b[0m\u001b[1;33m\u001b[0m\u001b[1;33m\u001b[0m\u001b[1;33m\u001b[0m\u001b[0m\n\u001b[0;32m     21\u001b[0m     \u001b[1;31m# for everything to be loaded as necessary.\u001b[0m\u001b[1;33m\u001b[0m\u001b[1;33m\u001b[0m\u001b[1;33m\u001b[0m\u001b[0m\n\u001b[1;32m---> 22\u001b[1;33m     \u001b[0mdriver\u001b[0m\u001b[1;33m.\u001b[0m\u001b[0mexecute_script\u001b[0m\u001b[1;33m(\u001b[0m\u001b[1;34m\"arguments[0].scrollIntoView();\"\u001b[0m\u001b[1;33m,\u001b[0m \u001b[0mcomment_section\u001b[0m\u001b[1;33m)\u001b[0m\u001b[1;33m\u001b[0m\u001b[1;33m\u001b[0m\u001b[0m\n\u001b[0m\u001b[0;32m     23\u001b[0m     \u001b[0mtime\u001b[0m\u001b[1;33m.\u001b[0m\u001b[0msleep\u001b[0m\u001b[1;33m(\u001b[0m\u001b[1;36m7\u001b[0m\u001b[1;33m)\u001b[0m\u001b[1;33m\u001b[0m\u001b[1;33m\u001b[0m\u001b[0m\n\u001b[0;32m     24\u001b[0m \u001b[1;33m\u001b[0m\u001b[0m\n",
      "\u001b[1;31mUnboundLocalError\u001b[0m: local variable 'comment_section' referenced before assignment"
     ]
    }
   ],
   "source": [
    "idlst = list(df41.channel_id)\n",
    "namelst = list(df41.link)\n",
    "\n",
    "game_df = pd.DataFrame()\n",
    "for i in tqdm(range(len(idlst))):\n",
    "    gamename = namelst[i]\n",
    "    commentlst, new_title, date = scrape(\"https://www.youtube.com/watch?v=\" + idlst[i])\n",
    "    num = len(commentlst)\n",
    "    \n",
    "    #게임 이름과 비디오 제목, 비디오 날짜를 리스트 길이로 맞게\n",
    "    \n",
    "\n",
    "    new_df = pd.DataFrame({'GameName':[gamename]*num, 'VideoDate': [date]*num, 'VideoTitle':[new_title]*num, 'Comment': commentlst})\n",
    "    game_df = game_df.append(new_df)\n",
    "    \n",
    "    \n",
    "game_df.to_csv(\"youtube_su41.csv\")"
   ]
  },
  {
   "cell_type": "code",
   "execution_count": null,
   "id": "aa4c82fe",
   "metadata": {},
   "outputs": [],
   "source": [
    "idlst = list(df42.channel_id)\n",
    "namelst = list(df42.link)\n",
    "\n",
    "game_df = pd.DataFrame()\n",
    "for i in tqdm(range(len(idlst))):\n",
    "    gamename = namelst[i]\n",
    "    commentlst, new_title, date = scrape(\"https://www.youtube.com/watch?v=\" + idlst[i])\n",
    "    num = len(commentlst)\n",
    "    \n",
    "    #게임 이름과 비디오 제목, 비디오 날짜를 리스트 길이로 맞게\n",
    "    \n",
    "\n",
    "    new_df = pd.DataFrame({'GameName':[gamename]*num, 'VideoDate': [date]*num, 'VideoTitle':[new_title]*num, 'Comment': commentlst})\n",
    "    game_df = game_df.append(new_df)\n",
    "    \n",
    "    \n",
    "game_df.to_csv(\"youtube_su42.csv\")"
   ]
  },
  {
   "cell_type": "code",
   "execution_count": null,
   "id": "f8c6e212",
   "metadata": {},
   "outputs": [],
   "source": [
    "idlst = list(df43.channel_id)\n",
    "namelst = list(df43.link)\n",
    "\n",
    "game_df = pd.DataFrame()\n",
    "for i in tqdm(range(len(idlst))):\n",
    "    gamename = namelst[i]\n",
    "    commentlst, new_title, date = scrape(\"https://www.youtube.com/watch?v=\" + idlst[i])\n",
    "    num = len(commentlst)\n",
    "    \n",
    "    #게임 이름과 비디오 제목, 비디오 날짜를 리스트 길이로 맞게\n",
    "    \n",
    "\n",
    "    new_df = pd.DataFrame({'GameName':[gamename]*num, 'VideoDate': [date]*num, 'VideoTitle':[new_title]*num, 'Comment': commentlst})\n",
    "    game_df = game_df.append(new_df)\n",
    "    \n",
    "    \n",
    "game_df.to_csv(\"youtube_su43.csv\")"
   ]
  },
  {
   "cell_type": "code",
   "execution_count": null,
   "id": "efffa9b3",
   "metadata": {},
   "outputs": [],
   "source": [
    "idlst = list(df44.channel_id)\n",
    "namelst = list(df44.link)\n",
    "\n",
    "game_df = pd.DataFrame()\n",
    "for i in tqdm(range(len(idlst))):\n",
    "    gamename = namelst[i]\n",
    "    commentlst, new_title, date = scrape(\"https://www.youtube.com/watch?v=\" + idlst[i])\n",
    "    num = len(commentlst)\n",
    "    \n",
    "    #게임 이름과 비디오 제목, 비디오 날짜를 리스트 길이로 맞게\n",
    "    \n",
    "\n",
    "    new_df = pd.DataFrame({'GameName':[gamename]*num, 'VideoDate': [date]*num, 'VideoTitle':[new_title]*num, 'Comment': commentlst})\n",
    "    game_df = game_df.append(new_df)\n",
    "    \n",
    "    \n",
    "game_df.to_csv(\"youtube_su44.csv\")"
   ]
  },
  {
   "cell_type": "code",
   "execution_count": null,
   "id": "1b559290",
   "metadata": {},
   "outputs": [],
   "source": []
  }
 ],
 "metadata": {
  "kernelspec": {
   "display_name": "Python 3",
   "language": "python",
   "name": "python3"
  },
  "language_info": {
   "codemirror_mode": {
    "name": "ipython",
    "version": 3
   },
   "file_extension": ".py",
   "mimetype": "text/x-python",
   "name": "python",
   "nbconvert_exporter": "python",
   "pygments_lexer": "ipython3",
   "version": "3.8.8"
  }
 },
 "nbformat": 4,
 "nbformat_minor": 5
}
